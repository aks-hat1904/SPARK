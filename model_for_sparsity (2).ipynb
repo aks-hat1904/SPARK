{
  "cells": [
    {
      "cell_type": "code",
      "execution_count": null,
      "id": "6ac9ea6a-fdae-4089-8808-670b7d8de367",
      "metadata": {
        "id": "6ac9ea6a-fdae-4089-8808-670b7d8de367"
      },
      "outputs": [],
      "source": [
        "import astra"
      ]
    },
    {
      "cell_type": "code",
      "execution_count": null,
      "id": "0e0dadb3-dc41-466a-910b-ea26b88b6884",
      "metadata": {
        "id": "0e0dadb3-dc41-466a-910b-ea26b88b6884",
        "outputId": "e31f45c8-84fd-4b95-d357-7aba4aab31bc"
      },
      "outputs": [
        {
          "name": "stdout",
          "output_type": "stream",
          "text": [
            "2.3.1\n"
          ]
        }
      ],
      "source": [
        "print(astra.__version__)"
      ]
    },
    {
      "cell_type": "code",
      "execution_count": null,
      "id": "981fd595-8243-4c3c-8056-40b533b018fd",
      "metadata": {
        "id": "981fd595-8243-4c3c-8056-40b533b018fd",
        "outputId": "36d564cf-58dc-4f0c-f849-cd412ddbd1bc"
      },
      "outputs": [
        {
          "name": "stdout",
          "output_type": "stream",
          "text": [
            "Requirement already satisfied: jupyterlab in c:\\users\\eyepod\\anaconda3\\lib\\site-packages (4.3.4)\n",
            "Requirement already satisfied: notebook in c:\\users\\eyepod\\anaconda3\\lib\\site-packages (7.3.2)\n",
            "Requirement already satisfied: async-lru>=1.0.0 in c:\\users\\eyepod\\anaconda3\\lib\\site-packages (from jupyterlab) (2.0.4)\n",
            "Requirement already satisfied: httpx>=0.25.0 in c:\\users\\eyepod\\anaconda3\\lib\\site-packages (from jupyterlab) (0.28.1)\n",
            "Requirement already satisfied: ipykernel>=6.5.0 in c:\\users\\eyepod\\anaconda3\\lib\\site-packages (from jupyterlab) (6.29.5)\n",
            "Requirement already satisfied: jinja2>=3.0.3 in c:\\users\\eyepod\\anaconda3\\lib\\site-packages (from jupyterlab) (3.1.3)\n",
            "Requirement already satisfied: jupyter-core in c:\\users\\eyepod\\anaconda3\\lib\\site-packages (from jupyterlab) (5.5.0)\n",
            "Requirement already satisfied: jupyter-lsp>=2.0.0 in c:\\users\\eyepod\\anaconda3\\lib\\site-packages (from jupyterlab) (2.2.0)\n",
            "Requirement already satisfied: jupyter-server<3,>=2.4.0 in c:\\users\\eyepod\\anaconda3\\lib\\site-packages (from jupyterlab) (2.10.0)\n",
            "Requirement already satisfied: jupyterlab-server<3,>=2.27.1 in c:\\users\\eyepod\\anaconda3\\lib\\site-packages (from jupyterlab) (2.27.3)\n",
            "Requirement already satisfied: notebook-shim>=0.2 in c:\\users\\eyepod\\anaconda3\\lib\\site-packages (from jupyterlab) (0.2.3)\n",
            "Requirement already satisfied: packaging in c:\\users\\eyepod\\anaconda3\\lib\\site-packages (from jupyterlab) (23.1)\n",
            "Requirement already satisfied: setuptools>=40.8.0 in c:\\users\\eyepod\\anaconda3\\lib\\site-packages (from jupyterlab) (68.2.2)\n",
            "Requirement already satisfied: tornado>=6.2.0 in c:\\users\\eyepod\\anaconda3\\lib\\site-packages (from jupyterlab) (6.3.3)\n",
            "Requirement already satisfied: traitlets in c:\\users\\eyepod\\anaconda3\\lib\\site-packages (from jupyterlab) (5.7.1)\n",
            "Requirement already satisfied: anyio in c:\\users\\eyepod\\anaconda3\\lib\\site-packages (from httpx>=0.25.0->jupyterlab) (4.2.0)\n",
            "Requirement already satisfied: certifi in c:\\users\\eyepod\\anaconda3\\lib\\site-packages (from httpx>=0.25.0->jupyterlab) (2025.4.26)\n",
            "Requirement already satisfied: httpcore==1.* in c:\\users\\eyepod\\anaconda3\\lib\\site-packages (from httpx>=0.25.0->jupyterlab) (1.0.9)\n",
            "Requirement already satisfied: idna in c:\\users\\eyepod\\anaconda3\\lib\\site-packages (from httpx>=0.25.0->jupyterlab) (3.4)\n",
            "Requirement already satisfied: h11>=0.16 in c:\\users\\eyepod\\anaconda3\\lib\\site-packages (from httpcore==1.*->httpx>=0.25.0->jupyterlab) (0.16.0)\n",
            "Requirement already satisfied: comm>=0.1.1 in c:\\users\\eyepod\\anaconda3\\lib\\site-packages (from ipykernel>=6.5.0->jupyterlab) (0.1.2)\n",
            "Requirement already satisfied: debugpy>=1.6.5 in c:\\users\\eyepod\\anaconda3\\lib\\site-packages (from ipykernel>=6.5.0->jupyterlab) (1.6.7)\n",
            "Requirement already satisfied: ipython>=7.23.1 in c:\\users\\eyepod\\anaconda3\\lib\\site-packages (from ipykernel>=6.5.0->jupyterlab) (8.20.0)\n",
            "Requirement already satisfied: jupyter-client>=6.1.12 in c:\\users\\eyepod\\anaconda3\\lib\\site-packages (from ipykernel>=6.5.0->jupyterlab) (8.6.0)\n",
            "Requirement already satisfied: matplotlib-inline>=0.1 in c:\\users\\eyepod\\anaconda3\\lib\\site-packages (from ipykernel>=6.5.0->jupyterlab) (0.1.6)\n",
            "Requirement already satisfied: nest-asyncio in c:\\users\\eyepod\\anaconda3\\lib\\site-packages (from ipykernel>=6.5.0->jupyterlab) (1.6.0)\n",
            "Requirement already satisfied: psutil in c:\\users\\eyepod\\anaconda3\\lib\\site-packages (from ipykernel>=6.5.0->jupyterlab) (5.9.0)\n",
            "Requirement already satisfied: pyzmq>=24 in c:\\users\\eyepod\\anaconda3\\lib\\site-packages (from ipykernel>=6.5.0->jupyterlab) (25.1.2)\n",
            "Requirement already satisfied: MarkupSafe>=2.0 in c:\\users\\eyepod\\anaconda3\\lib\\site-packages (from jinja2>=3.0.3->jupyterlab) (2.1.3)\n",
            "Requirement already satisfied: platformdirs>=2.5 in c:\\users\\eyepod\\anaconda3\\lib\\site-packages (from jupyter-core->jupyterlab) (3.10.0)\n",
            "Requirement already satisfied: pywin32>=300 in c:\\users\\eyepod\\anaconda3\\lib\\site-packages (from jupyter-core->jupyterlab) (305.1)\n",
            "Requirement already satisfied: argon2-cffi in c:\\users\\eyepod\\anaconda3\\lib\\site-packages (from jupyter-server<3,>=2.4.0->jupyterlab) (21.3.0)\n",
            "Requirement already satisfied: jupyter-events>=0.6.0 in c:\\users\\eyepod\\anaconda3\\lib\\site-packages (from jupyter-server<3,>=2.4.0->jupyterlab) (0.8.0)\n",
            "Requirement already satisfied: jupyter-server-terminals in c:\\users\\eyepod\\anaconda3\\lib\\site-packages (from jupyter-server<3,>=2.4.0->jupyterlab) (0.4.4)\n",
            "Requirement already satisfied: nbconvert>=6.4.4 in c:\\users\\eyepod\\anaconda3\\lib\\site-packages (from jupyter-server<3,>=2.4.0->jupyterlab) (7.10.0)\n",
            "Requirement already satisfied: nbformat>=5.3.0 in c:\\users\\eyepod\\anaconda3\\lib\\site-packages (from jupyter-server<3,>=2.4.0->jupyterlab) (5.9.2)\n",
            "Requirement already satisfied: overrides in c:\\users\\eyepod\\anaconda3\\lib\\site-packages (from jupyter-server<3,>=2.4.0->jupyterlab) (7.4.0)\n",
            "Requirement already satisfied: prometheus-client in c:\\users\\eyepod\\anaconda3\\lib\\site-packages (from jupyter-server<3,>=2.4.0->jupyterlab) (0.14.1)\n",
            "Requirement already satisfied: pywinpty in c:\\users\\eyepod\\anaconda3\\lib\\site-packages (from jupyter-server<3,>=2.4.0->jupyterlab) (2.0.10)\n",
            "Requirement already satisfied: send2trash>=1.8.2 in c:\\users\\eyepod\\anaconda3\\lib\\site-packages (from jupyter-server<3,>=2.4.0->jupyterlab) (1.8.2)\n",
            "Requirement already satisfied: terminado>=0.8.3 in c:\\users\\eyepod\\anaconda3\\lib\\site-packages (from jupyter-server<3,>=2.4.0->jupyterlab) (0.17.1)\n",
            "Requirement already satisfied: websocket-client in c:\\users\\eyepod\\anaconda3\\lib\\site-packages (from jupyter-server<3,>=2.4.0->jupyterlab) (0.58.0)\n",
            "Requirement already satisfied: babel>=2.10 in c:\\users\\eyepod\\anaconda3\\lib\\site-packages (from jupyterlab-server<3,>=2.27.1->jupyterlab) (2.11.0)\n",
            "Requirement already satisfied: json5>=0.9.0 in c:\\users\\eyepod\\anaconda3\\lib\\site-packages (from jupyterlab-server<3,>=2.27.1->jupyterlab) (0.9.6)\n",
            "Requirement already satisfied: jsonschema>=4.18.0 in c:\\users\\eyepod\\anaconda3\\lib\\site-packages (from jupyterlab-server<3,>=2.27.1->jupyterlab) (4.19.2)\n",
            "Requirement already satisfied: requests>=2.31 in c:\\users\\eyepod\\anaconda3\\lib\\site-packages (from jupyterlab-server<3,>=2.27.1->jupyterlab) (2.31.0)\n",
            "Requirement already satisfied: sniffio>=1.1 in c:\\users\\eyepod\\anaconda3\\lib\\site-packages (from anyio->httpx>=0.25.0->jupyterlab) (1.3.0)\n",
            "Requirement already satisfied: pytz>=2015.7 in c:\\users\\eyepod\\anaconda3\\lib\\site-packages (from babel>=2.10->jupyterlab-server<3,>=2.27.1->jupyterlab) (2023.3.post1)\n",
            "Requirement already satisfied: decorator in c:\\users\\eyepod\\anaconda3\\lib\\site-packages (from ipython>=7.23.1->ipykernel>=6.5.0->jupyterlab) (5.1.1)\n",
            "Requirement already satisfied: jedi>=0.16 in c:\\users\\eyepod\\anaconda3\\lib\\site-packages (from ipython>=7.23.1->ipykernel>=6.5.0->jupyterlab) (0.18.1)\n",
            "Requirement already satisfied: prompt-toolkit<3.1.0,>=3.0.41 in c:\\users\\eyepod\\anaconda3\\lib\\site-packages (from ipython>=7.23.1->ipykernel>=6.5.0->jupyterlab) (3.0.43)\n",
            "Requirement already satisfied: pygments>=2.4.0 in c:\\users\\eyepod\\anaconda3\\lib\\site-packages (from ipython>=7.23.1->ipykernel>=6.5.0->jupyterlab) (2.15.1)\n",
            "Requirement already satisfied: stack-data in c:\\users\\eyepod\\anaconda3\\lib\\site-packages (from ipython>=7.23.1->ipykernel>=6.5.0->jupyterlab) (0.2.0)\n",
            "Requirement already satisfied: colorama in c:\\users\\eyepod\\anaconda3\\lib\\site-packages (from ipython>=7.23.1->ipykernel>=6.5.0->jupyterlab) (0.4.6)\n",
            "Requirement already satisfied: attrs>=22.2.0 in c:\\users\\eyepod\\anaconda3\\lib\\site-packages (from jsonschema>=4.18.0->jupyterlab-server<3,>=2.27.1->jupyterlab) (23.1.0)\n",
            "Requirement already satisfied: jsonschema-specifications>=2023.03.6 in c:\\users\\eyepod\\anaconda3\\lib\\site-packages (from jsonschema>=4.18.0->jupyterlab-server<3,>=2.27.1->jupyterlab) (2023.7.1)\n",
            "Requirement already satisfied: referencing>=0.28.4 in c:\\users\\eyepod\\anaconda3\\lib\\site-packages (from jsonschema>=4.18.0->jupyterlab-server<3,>=2.27.1->jupyterlab) (0.30.2)\n",
            "Requirement already satisfied: rpds-py>=0.7.1 in c:\\users\\eyepod\\anaconda3\\lib\\site-packages (from jsonschema>=4.18.0->jupyterlab-server<3,>=2.27.1->jupyterlab) (0.10.6)\n",
            "Requirement already satisfied: python-dateutil>=2.8.2 in c:\\users\\eyepod\\anaconda3\\lib\\site-packages (from jupyter-client>=6.1.12->ipykernel>=6.5.0->jupyterlab) (2.8.2)\n",
            "Requirement already satisfied: python-json-logger>=2.0.4 in c:\\users\\eyepod\\anaconda3\\lib\\site-packages (from jupyter-events>=0.6.0->jupyter-server<3,>=2.4.0->jupyterlab) (2.0.7)\n",
            "Requirement already satisfied: pyyaml>=5.3 in c:\\users\\eyepod\\anaconda3\\lib\\site-packages (from jupyter-events>=0.6.0->jupyter-server<3,>=2.4.0->jupyterlab) (6.0.1)\n",
            "Requirement already satisfied: rfc3339-validator in c:\\users\\eyepod\\anaconda3\\lib\\site-packages (from jupyter-events>=0.6.0->jupyter-server<3,>=2.4.0->jupyterlab) (0.1.4)\n",
            "Requirement already satisfied: rfc3986-validator>=0.1.1 in c:\\users\\eyepod\\anaconda3\\lib\\site-packages (from jupyter-events>=0.6.0->jupyter-server<3,>=2.4.0->jupyterlab) (0.1.1)\n",
            "Requirement already satisfied: beautifulsoup4 in c:\\users\\eyepod\\anaconda3\\lib\\site-packages (from nbconvert>=6.4.4->jupyter-server<3,>=2.4.0->jupyterlab) (4.12.2)\n",
            "Requirement already satisfied: bleach!=5.0.0 in c:\\users\\eyepod\\anaconda3\\lib\\site-packages (from nbconvert>=6.4.4->jupyter-server<3,>=2.4.0->jupyterlab) (4.1.0)\n",
            "Requirement already satisfied: defusedxml in c:\\users\\eyepod\\anaconda3\\lib\\site-packages (from nbconvert>=6.4.4->jupyter-server<3,>=2.4.0->jupyterlab) (0.7.1)\n",
            "Requirement already satisfied: jupyterlab-pygments in c:\\users\\eyepod\\anaconda3\\lib\\site-packages (from nbconvert>=6.4.4->jupyter-server<3,>=2.4.0->jupyterlab) (0.1.2)\n",
            "Requirement already satisfied: mistune<4,>=2.0.3 in c:\\users\\eyepod\\anaconda3\\lib\\site-packages (from nbconvert>=6.4.4->jupyter-server<3,>=2.4.0->jupyterlab) (2.0.4)\n",
            "Requirement already satisfied: nbclient>=0.5.0 in c:\\users\\eyepod\\anaconda3\\lib\\site-packages (from nbconvert>=6.4.4->jupyter-server<3,>=2.4.0->jupyterlab) (0.8.0)\n",
            "Requirement already satisfied: pandocfilters>=1.4.1 in c:\\users\\eyepod\\anaconda3\\lib\\site-packages (from nbconvert>=6.4.4->jupyter-server<3,>=2.4.0->jupyterlab) (1.5.0)\n",
            "Requirement already satisfied: tinycss2 in c:\\users\\eyepod\\anaconda3\\lib\\site-packages (from nbconvert>=6.4.4->jupyter-server<3,>=2.4.0->jupyterlab) (1.2.1)\n",
            "Requirement already satisfied: fastjsonschema in c:\\users\\eyepod\\anaconda3\\lib\\site-packages (from nbformat>=5.3.0->jupyter-server<3,>=2.4.0->jupyterlab) (2.16.2)\n",
            "Requirement already satisfied: charset-normalizer<4,>=2 in c:\\users\\eyepod\\anaconda3\\lib\\site-packages (from requests>=2.31->jupyterlab-server<3,>=2.27.1->jupyterlab) (2.0.4)\n",
            "Requirement already satisfied: urllib3<3,>=1.21.1 in c:\\users\\eyepod\\anaconda3\\lib\\site-packages (from requests>=2.31->jupyterlab-server<3,>=2.27.1->jupyterlab) (2.0.7)\n",
            "Requirement already satisfied: argon2-cffi-bindings in c:\\users\\eyepod\\anaconda3\\lib\\site-packages (from argon2-cffi->jupyter-server<3,>=2.4.0->jupyterlab) (21.2.0)\n",
            "Requirement already satisfied: six in c:\\users\\eyepod\\anaconda3\\lib\\site-packages (from websocket-client->jupyter-server<3,>=2.4.0->jupyterlab) (1.16.0)\n",
            "Requirement already satisfied: webencodings in c:\\users\\eyepod\\anaconda3\\lib\\site-packages (from bleach!=5.0.0->nbconvert>=6.4.4->jupyter-server<3,>=2.4.0->jupyterlab) (0.5.1)\n",
            "Requirement already satisfied: parso<0.9.0,>=0.8.0 in c:\\users\\eyepod\\anaconda3\\lib\\site-packages (from jedi>=0.16->ipython>=7.23.1->ipykernel>=6.5.0->jupyterlab) (0.8.3)\n",
            "Requirement already satisfied: fqdn in c:\\users\\eyepod\\anaconda3\\lib\\site-packages (from jsonschema[format-nongpl]>=4.18.0->jupyter-events>=0.6.0->jupyter-server<3,>=2.4.0->jupyterlab) (1.5.1)\n",
            "Requirement already satisfied: isoduration in c:\\users\\eyepod\\anaconda3\\lib\\site-packages (from jsonschema[format-nongpl]>=4.18.0->jupyter-events>=0.6.0->jupyter-server<3,>=2.4.0->jupyterlab) (20.11.0)\n",
            "Requirement already satisfied: jsonpointer>1.13 in c:\\users\\eyepod\\anaconda3\\lib\\site-packages (from jsonschema[format-nongpl]>=4.18.0->jupyter-events>=0.6.0->jupyter-server<3,>=2.4.0->jupyterlab) (2.1)\n",
            "Requirement already satisfied: uri-template in c:\\users\\eyepod\\anaconda3\\lib\\site-packages (from jsonschema[format-nongpl]>=4.18.0->jupyter-events>=0.6.0->jupyter-server<3,>=2.4.0->jupyterlab) (1.3.0)\n",
            "Requirement already satisfied: webcolors>=1.11 in c:\\users\\eyepod\\anaconda3\\lib\\site-packages (from jsonschema[format-nongpl]>=4.18.0->jupyter-events>=0.6.0->jupyter-server<3,>=2.4.0->jupyterlab) (24.11.1)\n",
            "Requirement already satisfied: wcwidth in c:\\users\\eyepod\\anaconda3\\lib\\site-packages (from prompt-toolkit<3.1.0,>=3.0.41->ipython>=7.23.1->ipykernel>=6.5.0->jupyterlab) (0.2.5)\n",
            "Requirement already satisfied: cffi>=1.0.1 in c:\\users\\eyepod\\anaconda3\\lib\\site-packages (from argon2-cffi-bindings->argon2-cffi->jupyter-server<3,>=2.4.0->jupyterlab) (1.16.0)\n",
            "Requirement already satisfied: soupsieve>1.2 in c:\\users\\eyepod\\anaconda3\\lib\\site-packages (from beautifulsoup4->nbconvert>=6.4.4->jupyter-server<3,>=2.4.0->jupyterlab) (2.5)\n",
            "Requirement already satisfied: executing in c:\\users\\eyepod\\anaconda3\\lib\\site-packages (from stack-data->ipython>=7.23.1->ipykernel>=6.5.0->jupyterlab) (0.8.3)\n",
            "Requirement already satisfied: asttokens in c:\\users\\eyepod\\anaconda3\\lib\\site-packages (from stack-data->ipython>=7.23.1->ipykernel>=6.5.0->jupyterlab) (2.0.5)\n",
            "Requirement already satisfied: pure-eval in c:\\users\\eyepod\\anaconda3\\lib\\site-packages (from stack-data->ipython>=7.23.1->ipykernel>=6.5.0->jupyterlab) (0.2.2)\n",
            "Requirement already satisfied: pycparser in c:\\users\\eyepod\\anaconda3\\lib\\site-packages (from cffi>=1.0.1->argon2-cffi-bindings->argon2-cffi->jupyter-server<3,>=2.4.0->jupyterlab) (2.21)\n",
            "Requirement already satisfied: arrow>=0.15.0 in c:\\users\\eyepod\\anaconda3\\lib\\site-packages (from isoduration->jsonschema[format-nongpl]>=4.18.0->jupyter-events>=0.6.0->jupyter-server<3,>=2.4.0->jupyterlab) (1.2.3)\n",
            "Requirement already satisfied: cupy-cuda11x in c:\\users\\eyepod\\anaconda3\\lib\\site-packages (13.4.1)\n",
            "Requirement already satisfied: numpy<2.3,>=1.22 in c:\\users\\eyepod\\anaconda3\\lib\\site-packages (from cupy-cuda11x) (1.26.4)\n",
            "Requirement already satisfied: fastrlock>=0.5 in c:\\users\\eyepod\\anaconda3\\lib\\site-packages (from cupy-cuda11x) (0.8.3)\n",
            "Requirement already satisfied: torch in c:\\users\\eyepod\\anaconda3\\lib\\site-packages (2.7.0)\n",
            "Requirement already satisfied: filelock in c:\\users\\eyepod\\anaconda3\\lib\\site-packages (from torch) (3.13.1)\n",
            "Requirement already satisfied: typing-extensions>=4.10.0 in c:\\users\\eyepod\\anaconda3\\lib\\site-packages (from torch) (4.14.0)\n",
            "Requirement already satisfied: sympy>=1.13.3 in c:\\users\\eyepod\\anaconda3\\lib\\site-packages (from torch) (1.14.0)\n",
            "Requirement already satisfied: networkx in c:\\users\\eyepod\\anaconda3\\lib\\site-packages (from torch) (3.1)\n",
            "Requirement already satisfied: jinja2 in c:\\users\\eyepod\\anaconda3\\lib\\site-packages (from torch) (3.1.3)\n",
            "Requirement already satisfied: fsspec in c:\\users\\eyepod\\anaconda3\\lib\\site-packages (from torch) (2023.10.0)\n",
            "Requirement already satisfied: mpmath<1.4,>=1.1.0 in c:\\users\\eyepod\\anaconda3\\lib\\site-packages (from sympy>=1.13.3->torch) (1.3.0)\n",
            "Requirement already satisfied: MarkupSafe>=2.0 in c:\\users\\eyepod\\anaconda3\\lib\\site-packages (from jinja2->torch) (2.1.3)\n"
          ]
        }
      ],
      "source": [
        "!pip install jupyterlab notebook\n",
        "!pip install cupy-cuda11x\n",
        "!pip install torch"
      ]
    },
    {
      "cell_type": "code",
      "execution_count": null,
      "id": "51bb4cdd-7701-425a-888f-3b8cb3f4a57a",
      "metadata": {
        "id": "51bb4cdd-7701-425a-888f-3b8cb3f4a57a"
      },
      "outputs": [],
      "source": [
        "import torch"
      ]
    },
    {
      "cell_type": "code",
      "execution_count": null,
      "id": "9b9e7c85-367d-4103-b49e-3b6d60e9de9d",
      "metadata": {
        "id": "9b9e7c85-367d-4103-b49e-3b6d60e9de9d",
        "outputId": "cfabe10f-2c57-4a14-b9b7-6f0087d428c5"
      },
      "outputs": [
        {
          "name": "stdout",
          "output_type": "stream",
          "text": [
            "Mon Jun 16 10:12:31 2025       \n",
            "+-----------------------------------------------------------------------------------------+\n",
            "| NVIDIA-SMI 553.35                 Driver Version: 553.35         CUDA Version: 12.4     |\n",
            "|-----------------------------------------+------------------------+----------------------+\n",
            "| GPU  Name                     TCC/WDDM  | Bus-Id          Disp.A | Volatile Uncorr. ECC |\n",
            "| Fan  Temp   Perf          Pwr:Usage/Cap |           Memory-Usage | GPU-Util  Compute M. |\n",
            "|                                         |                        |               MIG M. |\n",
            "|=========================================+========================+======================|\n",
            "|   0  NVIDIA RTX A4000             WDDM  |   00000000:18:00.0  On |                  Off |\n",
            "| 41%   46C    P8             12W /  140W |     531MiB /  16376MiB |      8%      Default |\n",
            "|                                         |                        |                  N/A |\n",
            "+-----------------------------------------+------------------------+----------------------+\n",
            "                                                                                         \n",
            "+-----------------------------------------------------------------------------------------+\n",
            "| Processes:                                                                              |\n",
            "|  GPU   GI   CI        PID   Type   Process name                              GPU Memory |\n",
            "|        ID   ID                                                               Usage      |\n",
            "|=========================================================================================|\n",
            "|    0   N/A  N/A      4488    C+G   C:\\Windows\\explorer.exe                     N/A      |\n",
            "|    0   N/A  N/A      5740    C+G   ...__8wekyb3d8bbwe\\WindowsTerminal.exe      N/A      |\n",
            "|    0   N/A  N/A      6512    C+G   ...siveControlPanel\\SystemSettings.exe      N/A      |\n",
            "|    0   N/A  N/A      8296    C+G   ...on\\137.0.3296.68\\msedgewebview2.exe      N/A      |\n",
            "|    0   N/A  N/A     11768    C+G   ...crosoft\\Edge\\Application\\msedge.exe      N/A      |\n",
            "|    0   N/A  N/A     12020    C+G   ...cal\\Microsoft\\OneDrive\\OneDrive.exe      N/A      |\n",
            "|    0   N/A  N/A     13900    C+G   ...nt.CBS_cw5n1h2txyewy\\SearchHost.exe      N/A      |\n",
            "|    0   N/A  N/A     13928    C+G   ...2txyewy\\StartMenuExperienceHost.exe      N/A      |\n",
            "|    0   N/A  N/A     15252    C+G   ...ekyb3d8bbwe\\PhoneExperienceHost.exe      N/A      |\n",
            "|    0   N/A  N/A     15544    C+G   ...5n1h2txyewy\\ShellExperienceHost.exe      N/A      |\n",
            "|    0   N/A  N/A     22920    C+G   ...crosoft\\Edge\\Application\\msedge.exe      N/A      |\n",
            "|    0   N/A  N/A     22972    C+G   ...t.LockApp_cw5n1h2txyewy\\LockApp.exe      N/A      |\n",
            "+-----------------------------------------------------------------------------------------+\n"
          ]
        }
      ],
      "source": [
        "# Method 1: Check with nvidia-smi (if installed)\n",
        "!nvidia-smi"
      ]
    },
    {
      "cell_type": "code",
      "execution_count": null,
      "id": "8a4e9ed9-2534-4bb2-a5a4-0045a4329273",
      "metadata": {
        "id": "8a4e9ed9-2534-4bb2-a5a4-0045a4329273"
      },
      "outputs": [],
      "source": [
        "'''import cupy as cp\n",
        "\n",
        "# Create a large array on GPU\n",
        "a = cp.random.rand(10000, 10000)\n",
        "b = cp.dot(a, a.T)\n",
        "\n",
        "# Move result to CPU and print shape\n",
        "print(cp.asnumpy(b).shape)'''\n",
        "import astra\n",
        "astra.clear()"
      ]
    },
    {
      "cell_type": "code",
      "execution_count": null,
      "id": "f4b744a9-89f1-474d-9ebe-42b79dfd7974",
      "metadata": {
        "id": "f4b744a9-89f1-474d-9ebe-42b79dfd7974",
        "outputId": "8f6a32e7-7bc9-455b-f75b-64555e6c4fbf"
      },
      "outputs": [
        {
          "name": "stdout",
          "output_type": "stream",
          "text": [
            "Generating CT system matrices and calculating sparsities...\n",
            "==================================================\n",
            "Processing sample number 10/1000\n",
            "Processing sample number 20/1000\n",
            "Processing sample number 30/1000\n",
            "Processing sample number 40/1000\n",
            "Processing sample number 50/1000\n",
            "Processing sample number 60/1000\n",
            "Processing sample number 70/1000\n",
            "Processing sample number 80/1000\n",
            "Processing sample number 90/1000\n",
            "Processing sample number 100/1000\n",
            "Processing sample number 110/1000\n",
            "Processing sample number 120/1000\n",
            "Processing sample number 130/1000\n",
            "Processing sample number 140/1000\n",
            "Processing sample number 150/1000\n",
            "Processing sample number 160/1000\n",
            "Processing sample number 170/1000\n",
            "Processing sample number 180/1000\n",
            "Processing sample number 190/1000\n",
            "Processing sample number 200/1000\n",
            "Processing sample number 210/1000\n",
            "Processing sample number 220/1000\n",
            "Processing sample number 230/1000\n",
            "Processing sample number 240/1000\n",
            "Processing sample number 250/1000\n",
            "Processing sample number 260/1000\n",
            "Processing sample number 270/1000\n",
            "Processing sample number 280/1000\n",
            "Processing sample number 290/1000\n",
            "Processing sample number 300/1000\n",
            "Processing sample number 310/1000\n",
            "Processing sample number 320/1000\n",
            "Processing sample number 330/1000\n",
            "Processing sample number 340/1000\n",
            "Processing sample number 350/1000\n",
            "Processing sample number 360/1000\n",
            "Processing sample number 370/1000\n",
            "Processing sample number 380/1000\n",
            "Processing sample number 390/1000\n",
            "Processing sample number 400/1000\n",
            "Processing sample number 410/1000\n",
            "Processing sample number 420/1000\n",
            "Processing sample number 430/1000\n",
            "Processing sample number 440/1000\n",
            "Processing sample number 450/1000\n",
            "Processing sample number 460/1000\n",
            "Processing sample number 470/1000\n",
            "Processing sample number 480/1000\n",
            "Processing sample number 490/1000\n",
            "Processing sample number 500/1000\n",
            "Processing sample number 510/1000\n",
            "Processing sample number 520/1000\n",
            "Processing sample number 530/1000\n",
            "Processing sample number 540/1000\n",
            "Processing sample number 550/1000\n",
            "Processing sample number 560/1000\n",
            "Processing sample number 570/1000\n",
            "Processing sample number 580/1000\n",
            "Processing sample number 590/1000\n",
            "Processing sample number 600/1000\n",
            "Processing sample number 610/1000\n",
            "Processing sample number 620/1000\n",
            "Processing sample number 630/1000\n",
            "Processing sample number 640/1000\n",
            "Processing sample number 650/1000\n",
            "Processing sample number 660/1000\n",
            "Processing sample number 670/1000\n",
            "Processing sample number 680/1000\n",
            "Processing sample number 690/1000\n",
            "Processing sample number 700/1000\n",
            "Processing sample number 710/1000\n",
            "Processing sample number 720/1000\n",
            "Processing sample number 730/1000\n",
            "Processing sample number 740/1000\n",
            "Processing sample number 750/1000\n",
            "Processing sample number 760/1000\n",
            "Processing sample number 770/1000\n",
            "Processing sample number 780/1000\n",
            "Processing sample number 790/1000\n",
            "Processing sample number 800/1000\n",
            "Processing sample number 810/1000\n",
            "Processing sample number 820/1000\n",
            "Processing sample number 830/1000\n",
            "Processing sample number 840/1000\n",
            "Processing sample number 850/1000\n",
            "Processing sample number 860/1000\n",
            "Processing sample number 870/1000\n",
            "Processing sample number 880/1000\n",
            "Processing sample number 890/1000\n",
            "Processing sample number 900/1000\n",
            "Processing sample number 910/1000\n",
            "Processing sample number 920/1000\n",
            "Processing sample number 930/1000\n",
            "Processing sample number 940/1000\n",
            "Processing sample number 950/1000\n",
            "Processing sample number 960/1000\n",
            "Processing sample number 970/1000\n",
            "Processing sample number 980/1000\n",
            "Processing sample number 990/1000\n",
            "Processing sample number 1000/1000\n",
            "\n",
            "Dataset saved to ct_sparsity_dataset.csv\n",
            "Dataset shape: (1000, 10)\n"
          ]
        }
      ],
      "source": [
        "import numpy as np\n",
        "import astra\n",
        "import random\n",
        "from scipy.sparse import csr_matrix\n",
        "import pandas as pd\n",
        "\n",
        "def generate_random_geometry_params():\n",
        "    \"\"\"Generate random CT geometry parameters within realistic ranges\"\"\"\n",
        "    params = {\n",
        "        'num_detectors': random.randint(256, 512),\n",
        "        'num_angles': random.randint(360, 720),\n",
        "        'image_size': random.randint(64, 256),\n",
        "        'source_to_center': random.uniform(800, 1200),  # mm\n",
        "        'center_to_detector': random.uniform(300, 700),  # mm\n",
        "        'detector_spacing': random.uniform(0.5, 2.0)    # mm\n",
        "    }\n",
        "    return params\n",
        "\n",
        "def create_fanbeam_geometry(params):\n",
        "    \"\"\"Create ASTRA fanbeam geometry from parameters\"\"\"\n",
        "    # Calculate source-to-detector distance\n",
        "    source_to_detector = params['source_to_center'] + params['center_to_detector']\n",
        "\n",
        "    # Create projection geometry (fan beam)\n",
        "    angles = np.linspace(0, 2*np.pi, params['num_angles'], False)\n",
        "    proj_geom = astra.create_proj_geom('fanflat',\n",
        "                                       params['detector_spacing'],\n",
        "                                       params['num_detectors'],\n",
        "                                       angles,\n",
        "                                       params['source_to_center'],\n",
        "                                       params['center_to_detector'])\n",
        "\n",
        "    # Create volume geometry (reconstruction grid)\n",
        "    vol_geom = astra.create_vol_geom(params['image_size'], params['image_size'])\n",
        "\n",
        "    return proj_geom, vol_geom\n",
        "\n",
        "def generate_system_matrix(proj_geom, vol_geom):\n",
        "    \"\"\"Generate the system matrix using ASTRA\"\"\"\n",
        "    # Create projector\n",
        "    proj_id = astra.create_projector('line_fanflat', proj_geom, vol_geom)\n",
        "\n",
        "    # Get the system matrix\n",
        "    matrix_id = astra.projector.matrix(proj_id)\n",
        "    system_matrix = astra.matrix.get(matrix_id)\n",
        "\n",
        "    # Clean up ASTRA objects\n",
        "    astra.matrix.delete(matrix_id)\n",
        "    astra.projector.delete(proj_id)\n",
        "    astra.clear()\n",
        "\n",
        "    return system_matrix\n",
        "\n",
        "def calculate_sparsity(matrix):\n",
        "    \"\"\"Calculate sparsity of the system matrix\"\"\"\n",
        "    if hasattr(matrix, 'nnz'):  # Sparse matrix\n",
        "        total_elements = matrix.shape[0] * matrix.shape[1]\n",
        "        non_zero_elements = matrix.nnz\n",
        "    else:  # Dense matrix\n",
        "        total_elements = matrix.size\n",
        "        non_zero_elements = np.count_nonzero(matrix)\n",
        "\n",
        "    sparsity = 1.0 - (non_zero_elements / total_elements)\n",
        "    return sparsity, non_zero_elements, total_elements\n",
        "\n",
        "def process_single_geometry(params):\n",
        "    \"\"\"Process a single geometry configuration and return results\"\"\"\n",
        "    try:\n",
        "        # Create geometry\n",
        "        proj_geom, vol_geom = create_fanbeam_geometry(params)\n",
        "\n",
        "        # Generate system matrix\n",
        "        system_matrix = generate_system_matrix(proj_geom, vol_geom)\n",
        "\n",
        "        # Calculate sparsity\n",
        "        sparsity, nnz, total = calculate_sparsity(system_matrix)\n",
        "\n",
        "        # Prepare results\n",
        "        results = params.copy()\n",
        "        results.update({\n",
        "            'sparsity': sparsity,\n",
        "            'non_zero_elements': nnz,\n",
        "            'total_elements': total,\n",
        "            'matrix_shape': system_matrix.shape\n",
        "        })\n",
        "\n",
        "        #print(f\"Geometry processed:\")\n",
        "        #print(f\"  Detectors: {params['num_detectors']}, Angles: {params['num_angles']}\")\n",
        "        #print(f\"  Image size: {params['image_size']}x{params['image_size']}\")\n",
        "        #print(f\"  Source-center: {params['source_to_center']:.1f}mm\")\n",
        "        #print(f\"  Center-detector: {params['center_to_detector']:.1f}mm\")\n",
        "        #print(f\"  Detector spacing: {params['detector_spacing']:.2f}mm\")\n",
        "        #print(f\"  System matrix shape: {system_matrix.shape}\")\n",
        "        #print(f\"  Sparsity: {sparsity:.4f} ({sparsity*100:.2f}%)\")\n",
        "        #print(f\"  Non-zero elements: {nnz:,} / {total:,}\")\n",
        "        #print(\"-\" * 50)\n",
        "\n",
        "        return results\n",
        "\n",
        "    except Exception as e:\n",
        "        print(f\"Error processing geometry: {e}\")\n",
        "        return None\n",
        "\n",
        "def generate_dataset(num_samples=10):\n",
        "    \"\"\"Generate a dataset of geometries and their corresponding sparsities\"\"\"\n",
        "    results = []\n",
        "\n",
        "    print(\"Generating CT system matrices and calculating sparsities...\")\n",
        "    print(\"=\" * 50)\n",
        "\n",
        "    for i in range(num_samples):\n",
        "        if (i+1)%10 == 0:\n",
        "            print(f\"Processing sample number {i+1}/{num_samples}\")\n",
        "\n",
        "        # Generate random parameters\n",
        "        params = generate_random_geometry_params()\n",
        "\n",
        "        # Process geometry\n",
        "        result = process_single_geometry(params)\n",
        "\n",
        "        if result is not None:\n",
        "            results.append(result)\n",
        "\n",
        "    return results\n",
        "\n",
        "def save_results(results, filename='ct_sparsity_dataset.csv'):\n",
        "    \"\"\"Save results to CSV file\"\"\"\n",
        "    if results:\n",
        "        df = pd.DataFrame(results)\n",
        "        df.to_csv(filename, index=False)\n",
        "        print(f\"\\nDataset saved to {filename}\")\n",
        "        print(f\"Dataset shape: {df.shape}\")\n",
        "        #print(\"\\nDataset summary:\")\n",
        "        #print(df.describe())\n",
        "    else:\n",
        "        print(\"No results to save\")\n",
        "\n",
        "# Main execution\n",
        "if __name__ == \"__main__\":\n",
        "    # Set random seed for reproducibility\n",
        "    random.seed(42)\n",
        "    np.random.seed(42)\n",
        "\n",
        "    # Generate dataset\n",
        "    num_samples = 1000  # Adjust as needed\n",
        "    results = generate_dataset(num_samples)\n",
        "\n",
        "    # Save results\n",
        "    save_results(results)\n",
        "\n",
        "    # Example: Process a single specific geometry\n",
        "    '''print(\"\\n\" + \"=\"*60)\n",
        "    print(\"Example with specific geometry parameters:\")\n",
        "    specific_params = {\n",
        "        'num_detectors': 512,\n",
        "        'num_angles': 360,\n",
        "        'image_size': 256,\n",
        "        'source_to_center': 1000.0,\n",
        "        'center_to_detector': 500.0,\n",
        "        'detector_spacing': 1.0\n",
        "    }\n",
        "\n",
        "    specific_result = process_single_geometry(specific_params)'''\n",
        "\n",
        "    # Clean up ASTRA\n",
        "    astra.clear()"
      ]
    },
    {
      "cell_type": "code",
      "execution_count": null,
      "id": "6b73dd9f-e292-472d-af0d-226dbdce3dda",
      "metadata": {
        "id": "6b73dd9f-e292-472d-af0d-226dbdce3dda"
      },
      "outputs": [],
      "source": [
        "ct_sparsity_df = pd.read_csv('ct_sparsity_dataset.csv')"
      ]
    },
    {
      "cell_type": "code",
      "execution_count": null,
      "id": "5aceaee4-61e5-4952-a0ef-2c0d9047bc8a",
      "metadata": {
        "id": "5aceaee4-61e5-4952-a0ef-2c0d9047bc8a",
        "outputId": "f6d13803-418c-496e-a387-fa46420fa75b"
      },
      "outputs": [
        {
          "data": {
            "text/html": [
              "<div>\n",
              "<style scoped>\n",
              "    .dataframe tbody tr th:only-of-type {\n",
              "        vertical-align: middle;\n",
              "    }\n",
              "\n",
              "    .dataframe tbody tr th {\n",
              "        vertical-align: top;\n",
              "    }\n",
              "\n",
              "    .dataframe thead th {\n",
              "        text-align: right;\n",
              "    }\n",
              "</style>\n",
              "<table border=\"1\" class=\"dataframe\">\n",
              "  <thead>\n",
              "    <tr style=\"text-align: right;\">\n",
              "      <th></th>\n",
              "      <th>num_detectors</th>\n",
              "      <th>num_angles</th>\n",
              "      <th>image_size</th>\n",
              "      <th>source_to_center</th>\n",
              "      <th>center_to_detector</th>\n",
              "      <th>detector_spacing</th>\n",
              "      <th>sparsity</th>\n",
              "      <th>non_zero_elements</th>\n",
              "      <th>total_elements</th>\n",
              "      <th>matrix_shape</th>\n",
              "    </tr>\n",
              "  </thead>\n",
              "  <tbody>\n",
              "    <tr>\n",
              "      <th>0</th>\n",
              "      <td>313</td>\n",
              "      <td>372</td>\n",
              "      <td>253</td>\n",
              "      <td>910.011727</td>\n",
              "      <td>389.284295</td>\n",
              "      <td>1.604707</td>\n",
              "      <td>0.996346</td>\n",
              "      <td>27232194</td>\n",
              "      <td>7452951924</td>\n",
              "      <td>(116436, 64009)</td>\n",
              "    </tr>\n",
              "    <tr>\n",
              "      <th>1</th>\n",
              "      <td>300</td>\n",
              "      <td>662</td>\n",
              "      <td>172</td>\n",
              "      <td>812.713072</td>\n",
              "      <td>337.478096</td>\n",
              "      <td>0.848991</td>\n",
              "      <td>0.993216</td>\n",
              "      <td>39856354</td>\n",
              "      <td>5875382400</td>\n",
              "      <td>(198600, 29584)</td>\n",
              "    </tr>\n",
              "    <tr>\n",
              "      <th>2</th>\n",
              "      <td>269</td>\n",
              "      <td>647</td>\n",
              "      <td>114</td>\n",
              "      <td>1086.407845</td>\n",
              "      <td>580.529989</td>\n",
              "      <td>1.129280</td>\n",
              "      <td>0.993560</td>\n",
              "      <td>14566084</td>\n",
              "      <td>2261862828</td>\n",
              "      <td>(174043, 12996)</td>\n",
              "    </tr>\n",
              "    <tr>\n",
              "      <th>3</th>\n",
              "      <td>485</td>\n",
              "      <td>661</td>\n",
              "      <td>135</td>\n",
              "      <td>1123.772183</td>\n",
              "      <td>302.599504</td>\n",
              "      <td>1.708729</td>\n",
              "      <td>0.998046</td>\n",
              "      <td>11414784</td>\n",
              "      <td>5842661625</td>\n",
              "      <td>(320585, 18225)</td>\n",
              "    </tr>\n",
              "    <tr>\n",
              "      <th>4</th>\n",
              "      <td>472</td>\n",
              "      <td>534</td>\n",
              "      <td>135</td>\n",
              "      <td>862.191800</td>\n",
              "      <td>682.885229</td>\n",
              "      <td>1.004892</td>\n",
              "      <td>0.995175</td>\n",
              "      <td>22166063</td>\n",
              "      <td>4593574800</td>\n",
              "      <td>(252048, 18225)</td>\n",
              "    </tr>\n",
              "    <tr>\n",
              "      <th>5</th>\n",
              "      <td>303</td>\n",
              "      <td>554</td>\n",
              "      <td>88</td>\n",
              "      <td>943.591752</td>\n",
              "      <td>437.582289</td>\n",
              "      <td>0.896781</td>\n",
              "      <td>0.993134</td>\n",
              "      <td>8925108</td>\n",
              "      <td>1299923328</td>\n",
              "      <td>(167862, 7744)</td>\n",
              "    </tr>\n",
              "    <tr>\n",
              "      <th>6</th>\n",
              "      <td>278</td>\n",
              "      <td>595</td>\n",
              "      <td>201</td>\n",
              "      <td>849.930465</td>\n",
              "      <td>668.918149</td>\n",
              "      <td>0.618200</td>\n",
              "      <td>0.993077</td>\n",
              "      <td>46267069</td>\n",
              "      <td>6682729410</td>\n",
              "      <td>(165410, 40401)</td>\n",
              "    </tr>\n",
              "    <tr>\n",
              "      <th>7</th>\n",
              "      <td>406</td>\n",
              "      <td>681</td>\n",
              "      <td>222</td>\n",
              "      <td>1154.180699</td>\n",
              "      <td>444.654010</td>\n",
              "      <td>0.788433</td>\n",
              "      <td>0.994730</td>\n",
              "      <td>71817323</td>\n",
              "      <td>13626336024</td>\n",
              "      <td>(276486, 49284)</td>\n",
              "    </tr>\n",
              "    <tr>\n",
              "      <th>8</th>\n",
              "      <td>291</td>\n",
              "      <td>383</td>\n",
              "      <td>233</td>\n",
              "      <td>891.159310</td>\n",
              "      <td>415.755185</td>\n",
              "      <td>0.619688</td>\n",
              "      <td>0.994075</td>\n",
              "      <td>35850613</td>\n",
              "      <td>6050671917</td>\n",
              "      <td>(111453, 54289)</td>\n",
              "    </tr>\n",
              "    <tr>\n",
              "      <th>9</th>\n",
              "      <td>375</td>\n",
              "      <td>411</td>\n",
              "      <td>161</td>\n",
              "      <td>911.189441</td>\n",
              "      <td>554.273778</td>\n",
              "      <td>1.047248</td>\n",
              "      <td>0.994765</td>\n",
              "      <td>20913804</td>\n",
              "      <td>3995074125</td>\n",
              "      <td>(154125, 25921)</td>\n",
              "    </tr>\n",
              "  </tbody>\n",
              "</table>\n",
              "</div>"
            ],
            "text/plain": [
              "   num_detectors  num_angles  image_size  source_to_center  \\\n",
              "0            313         372         253        910.011727   \n",
              "1            300         662         172        812.713072   \n",
              "2            269         647         114       1086.407845   \n",
              "3            485         661         135       1123.772183   \n",
              "4            472         534         135        862.191800   \n",
              "5            303         554          88        943.591752   \n",
              "6            278         595         201        849.930465   \n",
              "7            406         681         222       1154.180699   \n",
              "8            291         383         233        891.159310   \n",
              "9            375         411         161        911.189441   \n",
              "\n",
              "   center_to_detector  detector_spacing  sparsity  non_zero_elements  \\\n",
              "0          389.284295          1.604707  0.996346           27232194   \n",
              "1          337.478096          0.848991  0.993216           39856354   \n",
              "2          580.529989          1.129280  0.993560           14566084   \n",
              "3          302.599504          1.708729  0.998046           11414784   \n",
              "4          682.885229          1.004892  0.995175           22166063   \n",
              "5          437.582289          0.896781  0.993134            8925108   \n",
              "6          668.918149          0.618200  0.993077           46267069   \n",
              "7          444.654010          0.788433  0.994730           71817323   \n",
              "8          415.755185          0.619688  0.994075           35850613   \n",
              "9          554.273778          1.047248  0.994765           20913804   \n",
              "\n",
              "   total_elements     matrix_shape  \n",
              "0      7452951924  (116436, 64009)  \n",
              "1      5875382400  (198600, 29584)  \n",
              "2      2261862828  (174043, 12996)  \n",
              "3      5842661625  (320585, 18225)  \n",
              "4      4593574800  (252048, 18225)  \n",
              "5      1299923328   (167862, 7744)  \n",
              "6      6682729410  (165410, 40401)  \n",
              "7     13626336024  (276486, 49284)  \n",
              "8      6050671917  (111453, 54289)  \n",
              "9      3995074125  (154125, 25921)  "
            ]
          },
          "execution_count": 9,
          "metadata": {},
          "output_type": "execute_result"
        }
      ],
      "source": [
        "ct_sparsity_df.head(10)"
      ]
    },
    {
      "cell_type": "code",
      "execution_count": null,
      "id": "d2549749-9457-4fad-984d-498a2e043af3",
      "metadata": {
        "id": "d2549749-9457-4fad-984d-498a2e043af3"
      },
      "outputs": [],
      "source": [
        "import matplotlib.pyplot as plt\n",
        "import seaborn as sns\n",
        "\n",
        "# Preprocessing\n",
        "from sklearn.preprocessing import MinMaxScaler, StandardScaler\n",
        "from sklearn.model_selection import train_test_split\n",
        "\n",
        "# For modeling (if needed)\n",
        "from sklearn.linear_model import LinearRegression\n",
        "from sklearn.ensemble import RandomForestRegressor\n",
        "from sklearn.metrics import mean_squared_error, r2_score"
      ]
    },
    {
      "cell_type": "code",
      "execution_count": null,
      "id": "381a8e51-2a80-4022-b29a-934190f20d8a",
      "metadata": {
        "id": "381a8e51-2a80-4022-b29a-934190f20d8a"
      },
      "outputs": [],
      "source": [
        "#removing unwanted or derived features\n",
        "df_clean = ct_sparsity_df.drop(columns=['non_zero_elements', 'total_elements', 'matrix_shape'])\n",
        "\n",
        "#separating the input features and the output label\n",
        "X = df_clean.drop(columns=['sparsity'])\n",
        "y = df_clean['sparsity']\n",
        "\n",
        "# Scale only input features\n",
        "scaler = StandardScaler()\n",
        "X_scaled = scaler.fit_transform(X)\n",
        "\n",
        "# Optionally convert back to DataFrame\n",
        "X_scaled_df = pd.DataFrame(X_scaled, columns=X.columns)\n",
        "y_df = pd.DataFrame(y, columns=[\"sparsity\"])"
      ]
    },
    {
      "cell_type": "code",
      "execution_count": null,
      "id": "da5dda9f-b05e-4425-a79e-c14fa8fd5d51",
      "metadata": {
        "id": "da5dda9f-b05e-4425-a79e-c14fa8fd5d51",
        "outputId": "52dc441c-a795-4a5f-96eb-7512d748eb08"
      },
      "outputs": [
        {
          "data": {
            "text/html": [
              "<div>\n",
              "<style scoped>\n",
              "    .dataframe tbody tr th:only-of-type {\n",
              "        vertical-align: middle;\n",
              "    }\n",
              "\n",
              "    .dataframe tbody tr th {\n",
              "        vertical-align: top;\n",
              "    }\n",
              "\n",
              "    .dataframe thead th {\n",
              "        text-align: right;\n",
              "    }\n",
              "</style>\n",
              "<table border=\"1\" class=\"dataframe\">\n",
              "  <thead>\n",
              "    <tr style=\"text-align: right;\">\n",
              "      <th></th>\n",
              "      <th>num_detectors</th>\n",
              "      <th>num_angles</th>\n",
              "      <th>image_size</th>\n",
              "      <th>source_to_center</th>\n",
              "      <th>center_to_detector</th>\n",
              "      <th>detector_spacing</th>\n",
              "    </tr>\n",
              "  </thead>\n",
              "  <tbody>\n",
              "    <tr>\n",
              "      <th>count</th>\n",
              "      <td>1.000000e+03</td>\n",
              "      <td>1.000000e+03</td>\n",
              "      <td>1.000000e+03</td>\n",
              "      <td>1.000000e+03</td>\n",
              "      <td>1.000000e+03</td>\n",
              "      <td>1.000000e+03</td>\n",
              "    </tr>\n",
              "    <tr>\n",
              "      <th>mean</th>\n",
              "      <td>3.517187e-16</td>\n",
              "      <td>-9.237056e-17</td>\n",
              "      <td>1.154632e-16</td>\n",
              "      <td>1.022293e-15</td>\n",
              "      <td>-1.536549e-16</td>\n",
              "      <td>3.819167e-16</td>\n",
              "    </tr>\n",
              "    <tr>\n",
              "      <th>std</th>\n",
              "      <td>1.000500e+00</td>\n",
              "      <td>1.000500e+00</td>\n",
              "      <td>1.000500e+00</td>\n",
              "      <td>1.000500e+00</td>\n",
              "      <td>1.000500e+00</td>\n",
              "      <td>1.000500e+00</td>\n",
              "    </tr>\n",
              "    <tr>\n",
              "      <th>min</th>\n",
              "      <td>-1.709300e+00</td>\n",
              "      <td>-1.744468e+00</td>\n",
              "      <td>-1.739967e+00</td>\n",
              "      <td>-1.740258e+00</td>\n",
              "      <td>-1.800638e+00</td>\n",
              "      <td>-1.791054e+00</td>\n",
              "    </tr>\n",
              "    <tr>\n",
              "      <th>25%</th>\n",
              "      <td>-8.900875e-01</td>\n",
              "      <td>-9.162171e-01</td>\n",
              "      <td>-8.638734e-01</td>\n",
              "      <td>-8.503557e-01</td>\n",
              "      <td>-8.047096e-01</td>\n",
              "      <td>-8.292928e-01</td>\n",
              "    </tr>\n",
              "    <tr>\n",
              "      <th>50%</th>\n",
              "      <td>-1.626136e-02</td>\n",
              "      <td>5.959600e-02</td>\n",
              "      <td>-1.473635e-02</td>\n",
              "      <td>-2.480698e-02</td>\n",
              "      <td>-4.809058e-02</td>\n",
              "      <td>-3.590118e-02</td>\n",
              "    </tr>\n",
              "    <tr>\n",
              "      <th>75%</th>\n",
              "      <td>8.985254e-01</td>\n",
              "      <td>8.759470e-01</td>\n",
              "      <td>8.478791e-01</td>\n",
              "      <td>8.613711e-01</td>\n",
              "      <td>8.673205e-01</td>\n",
              "      <td>8.451544e-01</td>\n",
              "    </tr>\n",
              "    <tr>\n",
              "      <th>max</th>\n",
              "      <td>1.786005e+00</td>\n",
              "      <td>1.682778e+00</td>\n",
              "      <td>1.710495e+00</td>\n",
              "      <td>1.734561e+00</td>\n",
              "      <td>1.726383e+00</td>\n",
              "      <td>1.762335e+00</td>\n",
              "    </tr>\n",
              "  </tbody>\n",
              "</table>\n",
              "</div>"
            ],
            "text/plain": [
              "       num_detectors    num_angles    image_size  source_to_center  \\\n",
              "count   1.000000e+03  1.000000e+03  1.000000e+03      1.000000e+03   \n",
              "mean    3.517187e-16 -9.237056e-17  1.154632e-16      1.022293e-15   \n",
              "std     1.000500e+00  1.000500e+00  1.000500e+00      1.000500e+00   \n",
              "min    -1.709300e+00 -1.744468e+00 -1.739967e+00     -1.740258e+00   \n",
              "25%    -8.900875e-01 -9.162171e-01 -8.638734e-01     -8.503557e-01   \n",
              "50%    -1.626136e-02  5.959600e-02 -1.473635e-02     -2.480698e-02   \n",
              "75%     8.985254e-01  8.759470e-01  8.478791e-01      8.613711e-01   \n",
              "max     1.786005e+00  1.682778e+00  1.710495e+00      1.734561e+00   \n",
              "\n",
              "       center_to_detector  detector_spacing  \n",
              "count        1.000000e+03      1.000000e+03  \n",
              "mean        -1.536549e-16      3.819167e-16  \n",
              "std          1.000500e+00      1.000500e+00  \n",
              "min         -1.800638e+00     -1.791054e+00  \n",
              "25%         -8.047096e-01     -8.292928e-01  \n",
              "50%         -4.809058e-02     -3.590118e-02  \n",
              "75%          8.673205e-01      8.451544e-01  \n",
              "max          1.726383e+00      1.762335e+00  "
            ]
          },
          "execution_count": 12,
          "metadata": {},
          "output_type": "execute_result"
        }
      ],
      "source": [
        "X_scaled_df.describe()"
      ]
    },
    {
      "cell_type": "code",
      "execution_count": null,
      "id": "37b04472-4cbf-4c2e-b71f-8b293dfcbb60",
      "metadata": {
        "id": "37b04472-4cbf-4c2e-b71f-8b293dfcbb60",
        "outputId": "191279c3-dad3-4afc-95d4-ff0711136fef"
      },
      "outputs": [
        {
          "data": {
            "text/html": [
              "<div>\n",
              "<style scoped>\n",
              "    .dataframe tbody tr th:only-of-type {\n",
              "        vertical-align: middle;\n",
              "    }\n",
              "\n",
              "    .dataframe tbody tr th {\n",
              "        vertical-align: top;\n",
              "    }\n",
              "\n",
              "    .dataframe thead th {\n",
              "        text-align: right;\n",
              "    }\n",
              "</style>\n",
              "<table border=\"1\" class=\"dataframe\">\n",
              "  <thead>\n",
              "    <tr style=\"text-align: right;\">\n",
              "      <th></th>\n",
              "      <th>sparsity</th>\n",
              "    </tr>\n",
              "  </thead>\n",
              "  <tbody>\n",
              "    <tr>\n",
              "      <th>count</th>\n",
              "      <td>1000.000000</td>\n",
              "    </tr>\n",
              "    <tr>\n",
              "      <th>mean</th>\n",
              "      <td>0.995486</td>\n",
              "    </tr>\n",
              "    <tr>\n",
              "      <th>std</th>\n",
              "      <td>0.001780</td>\n",
              "    </tr>\n",
              "    <tr>\n",
              "      <th>min</th>\n",
              "      <td>0.987129</td>\n",
              "    </tr>\n",
              "    <tr>\n",
              "      <th>25%</th>\n",
              "      <td>0.994435</td>\n",
              "    </tr>\n",
              "    <tr>\n",
              "      <th>50%</th>\n",
              "      <td>0.995836</td>\n",
              "    </tr>\n",
              "    <tr>\n",
              "      <th>75%</th>\n",
              "      <td>0.996822</td>\n",
              "    </tr>\n",
              "    <tr>\n",
              "      <th>max</th>\n",
              "      <td>0.998166</td>\n",
              "    </tr>\n",
              "  </tbody>\n",
              "</table>\n",
              "</div>"
            ],
            "text/plain": [
              "          sparsity\n",
              "count  1000.000000\n",
              "mean      0.995486\n",
              "std       0.001780\n",
              "min       0.987129\n",
              "25%       0.994435\n",
              "50%       0.995836\n",
              "75%       0.996822\n",
              "max       0.998166"
            ]
          },
          "execution_count": 13,
          "metadata": {},
          "output_type": "execute_result"
        }
      ],
      "source": [
        "y_df.describe()"
      ]
    },
    {
      "cell_type": "code",
      "execution_count": null,
      "id": "d321d226-6929-4ff4-b82e-51b83fb14d6b",
      "metadata": {
        "id": "d321d226-6929-4ff4-b82e-51b83fb14d6b"
      },
      "outputs": [],
      "source": [
        "from sklearn.model_selection import train_test_split\n",
        "\n",
        "X_train, X_test, y_train, y_test = train_test_split(X_scaled, y, test_size=0.1, random_state=42)"
      ]
    },
    {
      "cell_type": "code",
      "execution_count": null,
      "id": "7ff8bcd8-cf47-4de7-b558-198d0ed78155",
      "metadata": {
        "id": "7ff8bcd8-cf47-4de7-b558-198d0ed78155",
        "outputId": "df78f127-8fa4-4307-bd8a-10d4adbed386"
      },
      "outputs": [
        {
          "data": {
            "text/plain": [
              "array([[ 1.58120209,  1.43525451, -1.05706333, -0.47402667, -1.01277533,\n",
              "         0.95362152],\n",
              "       [-0.1937573 , -0.54493213,  1.38701373,  0.88534601,  1.28688762,\n",
              "        -1.5005765 ],\n",
              "       [ 0.48891939,  0.95924811,  0.722081  , -1.68722581,  0.24030922,\n",
              "        -0.61226489],\n",
              "       ...,\n",
              "       [ 0.95313954, -1.48742481, -0.33821713,  0.08019538, -0.67300811,\n",
              "         0.21683027],\n",
              "       [ 1.44466676, -0.19268739, -1.43445758, -0.70315566,  1.06411841,\n",
              "        -1.38248422],\n",
              "       [-0.87643399,  1.00684875, -1.56025567, -0.53909012, -0.28705295,\n",
              "        -0.47413219]])"
            ]
          },
          "execution_count": 15,
          "metadata": {},
          "output_type": "execute_result"
        }
      ],
      "source": [
        "X_train"
      ]
    },
    {
      "cell_type": "code",
      "execution_count": null,
      "id": "ca8732e9-9250-480a-9930-2dbc54a069c8",
      "metadata": {
        "id": "ca8732e9-9250-480a-9930-2dbc54a069c8",
        "outputId": "ad8b5b6a-913a-4e86-d293-ec2f44ec5b0e"
      },
      "outputs": [
        {
          "data": {
            "text/plain": [
              "716    0.997816\n",
              "351    0.994282\n",
              "936    0.994922\n",
              "256    0.995823\n",
              "635    0.998006\n",
              "         ...   \n",
              "106    0.996239\n",
              "270    0.988513\n",
              "860    0.997010\n",
              "435    0.993470\n",
              "102    0.994282\n",
              "Name: sparsity, Length: 900, dtype: float64"
            ]
          },
          "execution_count": 16,
          "metadata": {},
          "output_type": "execute_result"
        }
      ],
      "source": [
        "y_train"
      ]
    },
    {
      "cell_type": "code",
      "execution_count": null,
      "id": "9723e9d7-1654-4e65-aabd-b69a9c4751c0",
      "metadata": {
        "id": "9723e9d7-1654-4e65-aabd-b69a9c4751c0",
        "outputId": "a367395c-01f2-4af4-b41c-c866641fc322"
      },
      "outputs": [
        {
          "data": {
            "text/html": [
              "<style>#sk-container-id-1 {color: black;background-color: white;}#sk-container-id-1 pre{padding: 0;}#sk-container-id-1 div.sk-toggleable {background-color: white;}#sk-container-id-1 label.sk-toggleable__label {cursor: pointer;display: block;width: 100%;margin-bottom: 0;padding: 0.3em;box-sizing: border-box;text-align: center;}#sk-container-id-1 label.sk-toggleable__label-arrow:before {content: \"▸\";float: left;margin-right: 0.25em;color: #696969;}#sk-container-id-1 label.sk-toggleable__label-arrow:hover:before {color: black;}#sk-container-id-1 div.sk-estimator:hover label.sk-toggleable__label-arrow:before {color: black;}#sk-container-id-1 div.sk-toggleable__content {max-height: 0;max-width: 0;overflow: hidden;text-align: left;background-color: #f0f8ff;}#sk-container-id-1 div.sk-toggleable__content pre {margin: 0.2em;color: black;border-radius: 0.25em;background-color: #f0f8ff;}#sk-container-id-1 input.sk-toggleable__control:checked~div.sk-toggleable__content {max-height: 200px;max-width: 100%;overflow: auto;}#sk-container-id-1 input.sk-toggleable__control:checked~label.sk-toggleable__label-arrow:before {content: \"▾\";}#sk-container-id-1 div.sk-estimator input.sk-toggleable__control:checked~label.sk-toggleable__label {background-color: #d4ebff;}#sk-container-id-1 div.sk-label input.sk-toggleable__control:checked~label.sk-toggleable__label {background-color: #d4ebff;}#sk-container-id-1 input.sk-hidden--visually {border: 0;clip: rect(1px 1px 1px 1px);clip: rect(1px, 1px, 1px, 1px);height: 1px;margin: -1px;overflow: hidden;padding: 0;position: absolute;width: 1px;}#sk-container-id-1 div.sk-estimator {font-family: monospace;background-color: #f0f8ff;border: 1px dotted black;border-radius: 0.25em;box-sizing: border-box;margin-bottom: 0.5em;}#sk-container-id-1 div.sk-estimator:hover {background-color: #d4ebff;}#sk-container-id-1 div.sk-parallel-item::after {content: \"\";width: 100%;border-bottom: 1px solid gray;flex-grow: 1;}#sk-container-id-1 div.sk-label:hover label.sk-toggleable__label {background-color: #d4ebff;}#sk-container-id-1 div.sk-serial::before {content: \"\";position: absolute;border-left: 1px solid gray;box-sizing: border-box;top: 0;bottom: 0;left: 50%;z-index: 0;}#sk-container-id-1 div.sk-serial {display: flex;flex-direction: column;align-items: center;background-color: white;padding-right: 0.2em;padding-left: 0.2em;position: relative;}#sk-container-id-1 div.sk-item {position: relative;z-index: 1;}#sk-container-id-1 div.sk-parallel {display: flex;align-items: stretch;justify-content: center;background-color: white;position: relative;}#sk-container-id-1 div.sk-item::before, #sk-container-id-1 div.sk-parallel-item::before {content: \"\";position: absolute;border-left: 1px solid gray;box-sizing: border-box;top: 0;bottom: 0;left: 50%;z-index: -1;}#sk-container-id-1 div.sk-parallel-item {display: flex;flex-direction: column;z-index: 1;position: relative;background-color: white;}#sk-container-id-1 div.sk-parallel-item:first-child::after {align-self: flex-end;width: 50%;}#sk-container-id-1 div.sk-parallel-item:last-child::after {align-self: flex-start;width: 50%;}#sk-container-id-1 div.sk-parallel-item:only-child::after {width: 0;}#sk-container-id-1 div.sk-dashed-wrapped {border: 1px dashed gray;margin: 0 0.4em 0.5em 0.4em;box-sizing: border-box;padding-bottom: 0.4em;background-color: white;}#sk-container-id-1 div.sk-label label {font-family: monospace;font-weight: bold;display: inline-block;line-height: 1.2em;}#sk-container-id-1 div.sk-label-container {text-align: center;}#sk-container-id-1 div.sk-container {/* jupyter's `normalize.less` sets `[hidden] { display: none; }` but bootstrap.min.css set `[hidden] { display: none !important; }` so we also need the `!important` here to be able to override the default hidden behavior on the sphinx rendered scikit-learn.org. See: https://github.com/scikit-learn/scikit-learn/issues/21755 */display: inline-block !important;position: relative;}#sk-container-id-1 div.sk-text-repr-fallback {display: none;}</style><div id=\"sk-container-id-1\" class=\"sk-top-container\"><div class=\"sk-text-repr-fallback\"><pre>RandomForestRegressor(random_state=42)</pre><b>In a Jupyter environment, please rerun this cell to show the HTML representation or trust the notebook. <br />On GitHub, the HTML representation is unable to render, please try loading this page with nbviewer.org.</b></div><div class=\"sk-container\" hidden><div class=\"sk-item\"><div class=\"sk-estimator sk-toggleable\"><input class=\"sk-toggleable__control sk-hidden--visually\" id=\"sk-estimator-id-1\" type=\"checkbox\" checked><label for=\"sk-estimator-id-1\" class=\"sk-toggleable__label sk-toggleable__label-arrow\">RandomForestRegressor</label><div class=\"sk-toggleable__content\"><pre>RandomForestRegressor(random_state=42)</pre></div></div></div></div></div>"
            ],
            "text/plain": [
              "RandomForestRegressor(random_state=42)"
            ]
          },
          "execution_count": 17,
          "metadata": {},
          "output_type": "execute_result"
        }
      ],
      "source": [
        "#training Random Forest Regressor as our first model\n",
        "model = RandomForestRegressor(n_estimators=100, random_state=42)\n",
        "model.fit(X_train, y_train)"
      ]
    },
    {
      "cell_type": "code",
      "execution_count": null,
      "id": "f33cbf7a-2890-4c3b-b59b-2a79241ceebb",
      "metadata": {
        "id": "f33cbf7a-2890-4c3b-b59b-2a79241ceebb"
      },
      "outputs": [],
      "source": [
        "y_pred = model.predict(X_test)"
      ]
    },
    {
      "cell_type": "code",
      "execution_count": null,
      "id": "fcd5fef2-3fae-4d2c-90dc-d45c383f4d55",
      "metadata": {
        "id": "fcd5fef2-3fae-4d2c-90dc-d45c383f4d55",
        "outputId": "2f2468d0-6d24-4967-f5b0-e4576ce7c7e9"
      },
      "outputs": [
        {
          "name": "stdout",
          "output_type": "stream",
          "text": [
            "MAE: 0.0002\n",
            "MSE: 0.0000\n",
            "RMSE: 0.0003\n",
            "R² Score: 0.9716\n"
          ]
        }
      ],
      "source": [
        "from sklearn.metrics import mean_absolute_error, mean_squared_error\n",
        "\n",
        "mae = mean_absolute_error(y_test, y_pred)\n",
        "mse = mean_squared_error(y_test, y_pred)\n",
        "rmse = np.sqrt(mse)\n",
        "r2 = r2_score(y_test, y_pred)\n",
        "\n",
        "print(f\"MAE: {mae:.4f}\")\n",
        "print(f\"MSE: {mse:.4f}\")\n",
        "print(f\"RMSE: {rmse:.4f}\")\n",
        "print(f\"R² Score: {r2:.4f}\")"
      ]
    },
    {
      "cell_type": "code",
      "execution_count": null,
      "id": "aa19b73b-082c-4480-88c3-557faee99680",
      "metadata": {
        "id": "aa19b73b-082c-4480-88c3-557faee99680",
        "outputId": "7160fbf4-2c3c-441a-861e-5e3e6b6dcb7e"
      },
      "outputs": [
        {
          "data": {
            "image/png": "[encoded data removed]",
            "text/plain": [
              "<Figure size 640x480 with 1 Axes>"
            ]
          },
          "metadata": {},
          "output_type": "display_data"
        }
      ],
      "source": [
        "plt.scatter(y_test, y_pred)\n",
        "plt.xlabel(\"Actual Values\")\n",
        "plt.ylabel(\"Predicted Values\")\n",
        "plt.title(\"Actual vs Predicted\")\n",
        "plt.plot([min(y_test), max(y_test)], [min(y_test), max(y_test)], color='red', linestyle='--')  # Diagonal line\n",
        "plt.grid(True)\n",
        "plt.show()"
      ]
    },
    {
      "cell_type": "code",
      "execution_count": null,
      "id": "1a8967a5-df84-4ecd-a9f5-cbc3af95571d",
      "metadata": {
        "id": "1a8967a5-df84-4ecd-a9f5-cbc3af95571d",
        "outputId": "d41068c9-3a5c-426f-f489-bc8ade9b527d"
      },
      "outputs": [
        {
          "data": {
            "image/png": "[encoded data removed]",
            "text/plain": [
              "<Figure size 1000x600 with 1 Axes>"
            ]
          },
          "metadata": {},
          "output_type": "display_data"
        }
      ],
      "source": [
        "from sklearn.inspection import permutation_importance\n",
        "\n",
        "result = permutation_importance(model, X_test, y_test, n_repeats=30, random_state=42, scoring='r2')\n",
        "\n",
        "perm_df = pd.DataFrame({'Feature': X_scaled_df.columns, 'Importance': result.importances_mean})\n",
        "perm_df = perm_df.sort_values(by='Importance', ascending=False)\n",
        "\n",
        "# Plot\n",
        "plt.figure(figsize=(10, 6))\n",
        "sns.barplot(data=perm_df, x='Importance', y='Feature', palette='coolwarm')\n",
        "plt.title('Permutation Feature Importance')\n",
        "plt.tight_layout()\n",
        "plt.show()"
      ]
    },
    {
      "cell_type": "code",
      "execution_count": null,
      "id": "ba6e55d6-dd14-4eaf-9368-a91f2ae5c2ed",
      "metadata": {
        "id": "ba6e55d6-dd14-4eaf-9368-a91f2ae5c2ed",
        "outputId": "b8138c6f-452b-4f50-eb29-0299365fb9dc"
      },
      "outputs": [
        {
          "data": {
            "text/plain": [
              "{'importances_mean': array([ 3.52946508e-01, -1.11598995e-03,  1.64652235e-01,  3.85200185e-03,\n",
              "         3.26070775e-02,  1.27645384e+00]),\n",
              " 'importances_std': array([0.06167539, 0.00066813, 0.06724829, 0.00110996, 0.00551184,\n",
              "        0.17911316]),\n",
              " 'importances': array([[ 4.32513957e-01,  3.80766360e-01,  3.15041897e-01,\n",
              "          2.61936557e-01,  2.94103027e-01,  3.89977541e-01,\n",
              "          3.12687352e-01,  3.90401333e-01,  3.38279831e-01,\n",
              "          4.67995236e-01,  3.51575825e-01,  2.98716106e-01,\n",
              "          4.12617760e-01,  3.61037750e-01,  2.21950006e-01,\n",
              "          5.05176247e-01,  3.21449856e-01,  4.48615619e-01,\n",
              "          3.64788968e-01,  3.45791542e-01,  2.94680626e-01,\n",
              "          3.70613518e-01,  2.85939183e-01,  3.70038643e-01,\n",
              "          3.35557524e-01,  3.49880580e-01,  2.99237631e-01,\n",
              "          3.10440428e-01,  4.22823951e-01,  3.33760401e-01],\n",
              "        [-4.96994015e-04, -1.57529081e-03, -2.30346579e-03,\n",
              "         -5.03043817e-04, -1.30784637e-03, -9.32967246e-04,\n",
              "         -3.19577739e-04, -8.16959055e-04, -5.20434435e-04,\n",
              "         -7.62337974e-04, -2.34589985e-03, -1.53744137e-03,\n",
              "         -7.70503887e-04, -1.32796254e-03, -4.57869060e-04,\n",
              "         -4.57440509e-04, -7.62719740e-04, -1.02951622e-03,\n",
              "         -1.09244655e-03, -7.57643133e-04, -3.23481257e-04,\n",
              "         -2.34056956e-03, -4.93295764e-04, -4.71063702e-04,\n",
              "         -1.64253318e-03, -7.08459178e-04, -2.00979971e-03,\n",
              "         -1.62276494e-03, -1.14883698e-03, -2.64053402e-03],\n",
              "        [ 9.98752867e-02,  2.71368785e-01,  1.57808640e-01,\n",
              "          1.17948259e-01,  1.18151792e-01,  1.64440960e-01,\n",
              "          2.09356380e-01,  1.43019813e-01,  1.37325634e-01,\n",
              "          2.25506820e-01,  1.08890736e-01,  1.89059035e-01,\n",
              "          2.65812664e-01,  2.79743419e-01,  2.44776254e-01,\n",
              "          5.59891360e-02,  1.26754298e-01,  2.50772440e-01,\n",
              "          2.85869843e-01,  1.27919955e-01,  1.70448074e-01,\n",
              "          1.38827465e-01,  2.71360637e-02,  1.94575436e-01,\n",
              "          2.09945556e-01,  1.69249855e-01,  1.55743145e-01,\n",
              "          8.46196319e-02,  1.36919159e-01,  7.17125109e-02],\n",
              "        [ 4.25027316e-03,  2.74071556e-03,  2.19901379e-03,\n",
              "          2.68147232e-03,  4.98394479e-03,  5.06194395e-03,\n",
              "          2.97219533e-03,  2.99822681e-03,  5.84517460e-03,\n",
              "          2.43772571e-03,  4.61392588e-03,  6.44328446e-03,\n",
              "          3.61795134e-03,  4.39960044e-03,  3.84104365e-03,\n",
              "          5.25766636e-03,  2.12750299e-03,  5.06601223e-03,\n",
              "          4.30021285e-03,  3.97883165e-03,  3.91406879e-03,\n",
              "          3.79810689e-03,  3.47175925e-03,  3.10969320e-03,\n",
              "          2.51945050e-03,  3.06412463e-03,  4.99151932e-03,\n",
              "          4.53107199e-03,  2.40740196e-03,  3.93614105e-03],\n",
              "        [ 4.08995086e-02,  3.10258779e-02,  3.51488568e-02,\n",
              "          3.12715628e-02,  2.45610969e-02,  4.04806759e-02,\n",
              "          3.21534356e-02,  3.94421136e-02,  3.98411101e-02,\n",
              "          2.88412114e-02,  3.09624769e-02,  3.19994173e-02,\n",
              "          2.14861892e-02,  3.68058418e-02,  2.99816208e-02,\n",
              "          3.18993528e-02,  3.17195134e-02,  3.70048647e-02,\n",
              "          3.72148705e-02,  2.39380473e-02,  3.53490437e-02,\n",
              "          2.95882895e-02,  2.80033107e-02,  2.46461538e-02,\n",
              "          3.70273924e-02,  3.80307228e-02,  2.22575901e-02,\n",
              "          3.73332503e-02,  3.88626984e-02,  3.04362301e-02],\n",
              "        [ 1.23023455e+00,  1.26041364e+00,  9.97859233e-01,\n",
              "          1.41791447e+00,  1.31918246e+00,  1.64653732e+00,\n",
              "          1.12768853e+00,  8.75799779e-01,  1.13133001e+00,\n",
              "          1.25653742e+00,  1.14632928e+00,  1.27856715e+00,\n",
              "          1.26809816e+00,  8.89057524e-01,  1.46737025e+00,\n",
              "          1.46616785e+00,  1.56211448e+00,  1.30503685e+00,\n",
              "          1.15023664e+00,  1.26380553e+00,  1.47135438e+00,\n",
              "          1.41818988e+00,  1.39481845e+00,  1.15399287e+00,\n",
              "          1.11146095e+00,  1.29320538e+00,  1.27808351e+00,\n",
              "          1.53427317e+00,  1.28120609e+00,  1.29674946e+00]])}"
            ]
          },
          "execution_count": 22,
          "metadata": {},
          "output_type": "execute_result"
        }
      ],
      "source": [
        "result"
      ]
    },
    {
      "cell_type": "code",
      "execution_count": null,
      "id": "61e85158-8ae9-401c-bb0e-97a25a5067ab",
      "metadata": {
        "id": "61e85158-8ae9-401c-bb0e-97a25a5067ab",
        "outputId": "01d62ab3-d55a-4ab7-f70c-b0e0a961d347"
      },
      "outputs": [
        {
          "name": "stdout",
          "output_type": "stream",
          "text": [
            "MAPE: 0.02%\n"
          ]
        }
      ],
      "source": [
        "from sklearn.metrics import mean_absolute_percentage_error\n",
        "\n",
        "mape = mean_absolute_percentage_error(y_test, y_pred) * 100\n",
        "print(f\"MAPE: {mape:.2f}%\")"
      ]
    },
    {
      "cell_type": "code",
      "execution_count": null,
      "id": "3f84d8ec-7afd-421c-bd18-ca1efaedcf29",
      "metadata": {
        "id": "3f84d8ec-7afd-421c-bd18-ca1efaedcf29",
        "outputId": "95d7cf66-2d8f-4a6e-a6aa-4b268f0469b0"
      },
      "outputs": [
        {
          "data": {
            "text/html": [
              "<style>#sk-container-id-2 {color: black;background-color: white;}#sk-container-id-2 pre{padding: 0;}#sk-container-id-2 div.sk-toggleable {background-color: white;}#sk-container-id-2 label.sk-toggleable__label {cursor: pointer;display: block;width: 100%;margin-bottom: 0;padding: 0.3em;box-sizing: border-box;text-align: center;}#sk-container-id-2 label.sk-toggleable__label-arrow:before {content: \"▸\";float: left;margin-right: 0.25em;color: #696969;}#sk-container-id-2 label.sk-toggleable__label-arrow:hover:before {color: black;}#sk-container-id-2 div.sk-estimator:hover label.sk-toggleable__label-arrow:before {color: black;}#sk-container-id-2 div.sk-toggleable__content {max-height: 0;max-width: 0;overflow: hidden;text-align: left;background-color: #f0f8ff;}#sk-container-id-2 div.sk-toggleable__content pre {margin: 0.2em;color: black;border-radius: 0.25em;background-color: #f0f8ff;}#sk-container-id-2 input.sk-toggleable__control:checked~div.sk-toggleable__content {max-height: 200px;max-width: 100%;overflow: auto;}#sk-container-id-2 input.sk-toggleable__control:checked~label.sk-toggleable__label-arrow:before {content: \"▾\";}#sk-container-id-2 div.sk-estimator input.sk-toggleable__control:checked~label.sk-toggleable__label {background-color: #d4ebff;}#sk-container-id-2 div.sk-label input.sk-toggleable__control:checked~label.sk-toggleable__label {background-color: #d4ebff;}#sk-container-id-2 input.sk-hidden--visually {border: 0;clip: rect(1px 1px 1px 1px);clip: rect(1px, 1px, 1px, 1px);height: 1px;margin: -1px;overflow: hidden;padding: 0;position: absolute;width: 1px;}#sk-container-id-2 div.sk-estimator {font-family: monospace;background-color: #f0f8ff;border: 1px dotted black;border-radius: 0.25em;box-sizing: border-box;margin-bottom: 0.5em;}#sk-container-id-2 div.sk-estimator:hover {background-color: #d4ebff;}#sk-container-id-2 div.sk-parallel-item::after {content: \"\";width: 100%;border-bottom: 1px solid gray;flex-grow: 1;}#sk-container-id-2 div.sk-label:hover label.sk-toggleable__label {background-color: #d4ebff;}#sk-container-id-2 div.sk-serial::before {content: \"\";position: absolute;border-left: 1px solid gray;box-sizing: border-box;top: 0;bottom: 0;left: 50%;z-index: 0;}#sk-container-id-2 div.sk-serial {display: flex;flex-direction: column;align-items: center;background-color: white;padding-right: 0.2em;padding-left: 0.2em;position: relative;}#sk-container-id-2 div.sk-item {position: relative;z-index: 1;}#sk-container-id-2 div.sk-parallel {display: flex;align-items: stretch;justify-content: center;background-color: white;position: relative;}#sk-container-id-2 div.sk-item::before, #sk-container-id-2 div.sk-parallel-item::before {content: \"\";position: absolute;border-left: 1px solid gray;box-sizing: border-box;top: 0;bottom: 0;left: 50%;z-index: -1;}#sk-container-id-2 div.sk-parallel-item {display: flex;flex-direction: column;z-index: 1;position: relative;background-color: white;}#sk-container-id-2 div.sk-parallel-item:first-child::after {align-self: flex-end;width: 50%;}#sk-container-id-2 div.sk-parallel-item:last-child::after {align-self: flex-start;width: 50%;}#sk-container-id-2 div.sk-parallel-item:only-child::after {width: 0;}#sk-container-id-2 div.sk-dashed-wrapped {border: 1px dashed gray;margin: 0 0.4em 0.5em 0.4em;box-sizing: border-box;padding-bottom: 0.4em;background-color: white;}#sk-container-id-2 div.sk-label label {font-family: monospace;font-weight: bold;display: inline-block;line-height: 1.2em;}#sk-container-id-2 div.sk-label-container {text-align: center;}#sk-container-id-2 div.sk-container {/* jupyter's `normalize.less` sets `[hidden] { display: none; }` but bootstrap.min.css set `[hidden] { display: none !important; }` so we also need the `!important` here to be able to override the default hidden behavior on the sphinx rendered scikit-learn.org. See: https://github.com/scikit-learn/scikit-learn/issues/21755 */display: inline-block !important;position: relative;}#sk-container-id-2 div.sk-text-repr-fallback {display: none;}</style><div id=\"sk-container-id-2\" class=\"sk-top-container\"><div class=\"sk-text-repr-fallback\"><pre>GradientBoostingRegressor(learning_rate=0.05, max_depth=5, n_estimators=200,\n",
              "                          random_state=42)</pre><b>In a Jupyter environment, please rerun this cell to show the HTML representation or trust the notebook. <br />On GitHub, the HTML representation is unable to render, please try loading this page with nbviewer.org.</b></div><div class=\"sk-container\" hidden><div class=\"sk-item\"><div class=\"sk-estimator sk-toggleable\"><input class=\"sk-toggleable__control sk-hidden--visually\" id=\"sk-estimator-id-2\" type=\"checkbox\" checked><label for=\"sk-estimator-id-2\" class=\"sk-toggleable__label sk-toggleable__label-arrow\">GradientBoostingRegressor</label><div class=\"sk-toggleable__content\"><pre>GradientBoostingRegressor(learning_rate=0.05, max_depth=5, n_estimators=200,\n",
              "                          random_state=42)</pre></div></div></div></div></div>"
            ],
            "text/plain": [
              "GradientBoostingRegressor(learning_rate=0.05, max_depth=5, n_estimators=200,\n",
              "                          random_state=42)"
            ]
          },
          "execution_count": 24,
          "metadata": {},
          "output_type": "execute_result"
        }
      ],
      "source": [
        "from sklearn.ensemble import GradientBoostingRegressor\n",
        "\n",
        "model_2 = GradientBoostingRegressor(n_estimators=200, learning_rate=0.05, max_depth=5, random_state=42)\n",
        "model_2.fit(X_train, y_train)"
      ]
    },
    {
      "cell_type": "code",
      "execution_count": null,
      "id": "7cb5e7f7-dba6-4665-8325-41b39694619c",
      "metadata": {
        "id": "7cb5e7f7-dba6-4665-8325-41b39694619c"
      },
      "outputs": [],
      "source": [
        "y_pred = model_2.predict(X_test)"
      ]
    },
    {
      "cell_type": "code",
      "execution_count": null,
      "id": "5fe355e2-4eaa-48f6-8db6-94767d09d164",
      "metadata": {
        "id": "5fe355e2-4eaa-48f6-8db6-94767d09d164",
        "outputId": "81de59dd-c22c-4010-b269-8cf2292c147c"
      },
      "outputs": [
        {
          "name": "stdout",
          "output_type": "stream",
          "text": [
            "MAE: 0.0001\n",
            "MSE: 0.0000\n",
            "RMSE: 0.0003\n",
            "R² Score: 0.9809\n"
          ]
        }
      ],
      "source": [
        "from sklearn.metrics import mean_absolute_error, mean_squared_error\n",
        "\n",
        "mae = mean_absolute_error(y_test, y_pred)\n",
        "mse = mean_squared_error(y_test, y_pred)\n",
        "rmse = np.sqrt(mse)\n",
        "r2 = r2_score(y_test, y_pred)\n",
        "\n",
        "print(f\"MAE: {mae:.4f}\")\n",
        "print(f\"MSE: {mse:.4f}\")\n",
        "print(f\"RMSE: {rmse:.4f}\")\n",
        "print(f\"R² Score: {r2:.4f}\")"
      ]
    },
    {
      "cell_type": "code",
      "execution_count": null,
      "id": "5abe8cde-7355-49ca-a044-64ce58ac1a6d",
      "metadata": {
        "id": "5abe8cde-7355-49ca-a044-64ce58ac1a6d",
        "outputId": "116b93c7-c135-4a2c-8fdc-825b6b75b910"
      },
      "outputs": [
        {
          "data": {
            "image/png": "[encoded data removed]",
            "text/plain": [
              "<Figure size 640x480 with 1 Axes>"
            ]
          },
          "metadata": {},
          "output_type": "display_data"
        }
      ],
      "source": [
        "plt.scatter(y_test, y_pred)\n",
        "plt.xlabel(\"Actual Values\")\n",
        "plt.ylabel(\"Predicted Values\")\n",
        "plt.title(\"Actual vs Predicted\")\n",
        "plt.plot([min(y_test), max(y_test)], [min(y_test), max(y_test)], color='red', linestyle='--')  # Diagonal line\n",
        "plt.grid(True)\n",
        "plt.show()"
      ]
    },
    {
      "cell_type": "code",
      "execution_count": null,
      "id": "f6317c40-6de8-45f5-a3da-2ad0d694a9a0",
      "metadata": {
        "id": "f6317c40-6de8-45f5-a3da-2ad0d694a9a0",
        "outputId": "4942859e-da9d-4b91-96fe-48de882179b3"
      },
      "outputs": [
        {
          "data": {
            "image/png": "[encoded data removed]",
            "text/plain": [
              "<Figure size 1000x600 with 1 Axes>"
            ]
          },
          "metadata": {},
          "output_type": "display_data"
        }
      ],
      "source": [
        "from sklearn.inspection import permutation_importance\n",
        "\n",
        "result = permutation_importance(model_2, X_test, y_test, n_repeats=30, random_state=42, scoring='r2')\n",
        "\n",
        "perm_df = pd.DataFrame({'Feature': X_scaled_df.columns, 'Importance': result.importances_mean})\n",
        "perm_df = perm_df.sort_values(by='Importance', ascending=False)\n",
        "\n",
        "# Plot\n",
        "plt.figure(figsize=(10, 6))\n",
        "sns.barplot(data=perm_df, x='Importance', y='Feature', palette='coolwarm')\n",
        "plt.title('Permutation Feature Importance')\n",
        "plt.tight_layout()\n",
        "plt.show()"
      ]
    },
    {
      "cell_type": "code",
      "execution_count": null,
      "id": "75ad992b-8e61-4294-87c1-23597575b997",
      "metadata": {
        "id": "75ad992b-8e61-4294-87c1-23597575b997"
      },
      "outputs": [],
      "source": [
        "scaler_y = MinMaxScaler()\n",
        "y_train_scaled = scaler_y.fit_transform(y_train.values.reshape(-1, 1)).ravel()\n",
        "y_test_scaled = scaler_y.transform(y_test.values.reshape(-1, 1)).ravel()\n",
        "\n",
        "model_2.fit(X_train, y_train_scaled)\n",
        "y_pred_scaled = model_2.predict(X_test)\n",
        "#y_pred = scaler_y.inverse_transform(y_pred_scaled.reshape(-1, 1)).ravel()"
      ]
    },
    {
      "cell_type": "code",
      "execution_count": null,
      "id": "ff96994e-af9e-4db0-86c4-37ec069a607d",
      "metadata": {
        "id": "ff96994e-af9e-4db0-86c4-37ec069a607d",
        "outputId": "b6f5bc25-ca81-4f4c-d723-edd828077945"
      },
      "outputs": [
        {
          "data": {
            "image/png": "[encoded data removed]",
            "text/plain": [
              "<Figure size 640x480 with 1 Axes>"
            ]
          },
          "metadata": {},
          "output_type": "display_data"
        }
      ],
      "source": [
        "plt.scatter(y_test_scaled, y_pred_scaled)\n",
        "plt.xlabel(\"Actual Values\")\n",
        "plt.ylabel(\"Predicted Values\")\n",
        "plt.title(\"Actual vs Predicted\")\n",
        "plt.plot([min(y_test), max(y_test)], [min(y_test), max(y_test)], color='red', linestyle='--')  # Diagonal line\n",
        "plt.grid(True)\n",
        "plt.show()"
      ]
    },
    {
      "cell_type": "code",
      "execution_count": null,
      "id": "9177eda0-6a44-4d6b-bcef-c2801588553a",
      "metadata": {
        "id": "9177eda0-6a44-4d6b-bcef-c2801588553a"
      },
      "outputs": [],
      "source": [
        "from sklearn.model_selection import GridSearchCV, RandomizedSearchCV\n",
        "from sklearn.metrics import mean_squared_error, r2_score\n",
        "from scipy.stats import randint\n",
        "\n",
        "#now we will execute random forest regressor and apply grid search cv for tuning hyperparameters\n",
        "model = RandomForestRegressor(random_state=42)"
      ]
    },
    {
      "cell_type": "code",
      "execution_count": null,
      "id": "35c7dab4-7f14-4640-bb73-d8691142826b",
      "metadata": {
        "id": "35c7dab4-7f14-4640-bb73-d8691142826b"
      },
      "outputs": [],
      "source": [
        "param_grid = {\n",
        "    'n_estimators': [100, 200, 300],         # number of trees\n",
        "    'max_depth': [None, 10, 20, 30],         # maximum tree depth\n",
        "    'min_samples_split': [2, 5, 10],         # min samples to split an internal node\n",
        "    'min_samples_leaf': [1, 2, 4],           # min samples at a leaf node\n",
        "    'max_features': [1.0, 'sqrt', 'log2'] # number of features considered at each split\n",
        "}\n",
        "\n",
        "param_dist = {\n",
        "    'n_estimators': randint(100, 500),\n",
        "    'max_depth': [None] + list(range(10, 31, 5)),\n",
        "    'min_samples_split': randint(2, 11),\n",
        "    'min_samples_leaf': randint(1, 5),\n",
        "    'max_features': [1.0, 'sqrt', 'log2']\n",
        "}"
      ]
    },
    {
      "cell_type": "code",
      "execution_count": null,
      "id": "897b2e00-3f34-465c-9ac6-abedc577542f",
      "metadata": {
        "id": "897b2e00-3f34-465c-9ac6-abedc577542f",
        "outputId": "fb931225-3810-4e3f-dd43-19a642fb6b6b"
      },
      "outputs": [
        {
          "name": "stdout",
          "output_type": "stream",
          "text": [
            "Fitting 5 folds for each of 324 candidates, totalling 1620 fits\n"
          ]
        },
        {
          "data": {
            "text/html": [
              "<style>#sk-container-id-3 {color: black;background-color: white;}#sk-container-id-3 pre{padding: 0;}#sk-container-id-3 div.sk-toggleable {background-color: white;}#sk-container-id-3 label.sk-toggleable__label {cursor: pointer;display: block;width: 100%;margin-bottom: 0;padding: 0.3em;box-sizing: border-box;text-align: center;}#sk-container-id-3 label.sk-toggleable__label-arrow:before {content: \"▸\";float: left;margin-right: 0.25em;color: #696969;}#sk-container-id-3 label.sk-toggleable__label-arrow:hover:before {color: black;}#sk-container-id-3 div.sk-estimator:hover label.sk-toggleable__label-arrow:before {color: black;}#sk-container-id-3 div.sk-toggleable__content {max-height: 0;max-width: 0;overflow: hidden;text-align: left;background-color: #f0f8ff;}#sk-container-id-3 div.sk-toggleable__content pre {margin: 0.2em;color: black;border-radius: 0.25em;background-color: #f0f8ff;}#sk-container-id-3 input.sk-toggleable__control:checked~div.sk-toggleable__content {max-height: 200px;max-width: 100%;overflow: auto;}#sk-container-id-3 input.sk-toggleable__control:checked~label.sk-toggleable__label-arrow:before {content: \"▾\";}#sk-container-id-3 div.sk-estimator input.sk-toggleable__control:checked~label.sk-toggleable__label {background-color: #d4ebff;}#sk-container-id-3 div.sk-label input.sk-toggleable__control:checked~label.sk-toggleable__label {background-color: #d4ebff;}#sk-container-id-3 input.sk-hidden--visually {border: 0;clip: rect(1px 1px 1px 1px);clip: rect(1px, 1px, 1px, 1px);height: 1px;margin: -1px;overflow: hidden;padding: 0;position: absolute;width: 1px;}#sk-container-id-3 div.sk-estimator {font-family: monospace;background-color: #f0f8ff;border: 1px dotted black;border-radius: 0.25em;box-sizing: border-box;margin-bottom: 0.5em;}#sk-container-id-3 div.sk-estimator:hover {background-color: #d4ebff;}#sk-container-id-3 div.sk-parallel-item::after {content: \"\";width: 100%;border-bottom: 1px solid gray;flex-grow: 1;}#sk-container-id-3 div.sk-label:hover label.sk-toggleable__label {background-color: #d4ebff;}#sk-container-id-3 div.sk-serial::before {content: \"\";position: absolute;border-left: 1px solid gray;box-sizing: border-box;top: 0;bottom: 0;left: 50%;z-index: 0;}#sk-container-id-3 div.sk-serial {display: flex;flex-direction: column;align-items: center;background-color: white;padding-right: 0.2em;padding-left: 0.2em;position: relative;}#sk-container-id-3 div.sk-item {position: relative;z-index: 1;}#sk-container-id-3 div.sk-parallel {display: flex;align-items: stretch;justify-content: center;background-color: white;position: relative;}#sk-container-id-3 div.sk-item::before, #sk-container-id-3 div.sk-parallel-item::before {content: \"\";position: absolute;border-left: 1px solid gray;box-sizing: border-box;top: 0;bottom: 0;left: 50%;z-index: -1;}#sk-container-id-3 div.sk-parallel-item {display: flex;flex-direction: column;z-index: 1;position: relative;background-color: white;}#sk-container-id-3 div.sk-parallel-item:first-child::after {align-self: flex-end;width: 50%;}#sk-container-id-3 div.sk-parallel-item:last-child::after {align-self: flex-start;width: 50%;}#sk-container-id-3 div.sk-parallel-item:only-child::after {width: 0;}#sk-container-id-3 div.sk-dashed-wrapped {border: 1px dashed gray;margin: 0 0.4em 0.5em 0.4em;box-sizing: border-box;padding-bottom: 0.4em;background-color: white;}#sk-container-id-3 div.sk-label label {font-family: monospace;font-weight: bold;display: inline-block;line-height: 1.2em;}#sk-container-id-3 div.sk-label-container {text-align: center;}#sk-container-id-3 div.sk-container {/* jupyter's `normalize.less` sets `[hidden] { display: none; }` but bootstrap.min.css set `[hidden] { display: none !important; }` so we also need the `!important` here to be able to override the default hidden behavior on the sphinx rendered scikit-learn.org. See: https://github.com/scikit-learn/scikit-learn/issues/21755 */display: inline-block !important;position: relative;}#sk-container-id-3 div.sk-text-repr-fallback {display: none;}</style><div id=\"sk-container-id-3\" class=\"sk-top-container\"><div class=\"sk-text-repr-fallback\"><pre>GridSearchCV(cv=5, estimator=RandomForestRegressor(random_state=42), n_jobs=-1,\n",
              "             param_grid={&#x27;max_depth&#x27;: [None, 10, 20, 30],\n",
              "                         &#x27;max_features&#x27;: [1.0, &#x27;sqrt&#x27;, &#x27;log2&#x27;],\n",
              "                         &#x27;min_samples_leaf&#x27;: [1, 2, 4],\n",
              "                         &#x27;min_samples_split&#x27;: [2, 5, 10],\n",
              "                         &#x27;n_estimators&#x27;: [100, 200, 300]},\n",
              "             scoring=&#x27;neg_mean_squared_error&#x27;, verbose=2)</pre><b>In a Jupyter environment, please rerun this cell to show the HTML representation or trust the notebook. <br />On GitHub, the HTML representation is unable to render, please try loading this page with nbviewer.org.</b></div><div class=\"sk-container\" hidden><div class=\"sk-item sk-dashed-wrapped\"><div class=\"sk-label-container\"><div class=\"sk-label sk-toggleable\"><input class=\"sk-toggleable__control sk-hidden--visually\" id=\"sk-estimator-id-3\" type=\"checkbox\" ><label for=\"sk-estimator-id-3\" class=\"sk-toggleable__label sk-toggleable__label-arrow\">GridSearchCV</label><div class=\"sk-toggleable__content\"><pre>GridSearchCV(cv=5, estimator=RandomForestRegressor(random_state=42), n_jobs=-1,\n",
              "             param_grid={&#x27;max_depth&#x27;: [None, 10, 20, 30],\n",
              "                         &#x27;max_features&#x27;: [1.0, &#x27;sqrt&#x27;, &#x27;log2&#x27;],\n",
              "                         &#x27;min_samples_leaf&#x27;: [1, 2, 4],\n",
              "                         &#x27;min_samples_split&#x27;: [2, 5, 10],\n",
              "                         &#x27;n_estimators&#x27;: [100, 200, 300]},\n",
              "             scoring=&#x27;neg_mean_squared_error&#x27;, verbose=2)</pre></div></div></div><div class=\"sk-parallel\"><div class=\"sk-parallel-item\"><div class=\"sk-item\"><div class=\"sk-label-container\"><div class=\"sk-label sk-toggleable\"><input class=\"sk-toggleable__control sk-hidden--visually\" id=\"sk-estimator-id-4\" type=\"checkbox\" ><label for=\"sk-estimator-id-4\" class=\"sk-toggleable__label sk-toggleable__label-arrow\">estimator: RandomForestRegressor</label><div class=\"sk-toggleable__content\"><pre>RandomForestRegressor(random_state=42)</pre></div></div></div><div class=\"sk-serial\"><div class=\"sk-item\"><div class=\"sk-estimator sk-toggleable\"><input class=\"sk-toggleable__control sk-hidden--visually\" id=\"sk-estimator-id-5\" type=\"checkbox\" ><label for=\"sk-estimator-id-5\" class=\"sk-toggleable__label sk-toggleable__label-arrow\">RandomForestRegressor</label><div class=\"sk-toggleable__content\"><pre>RandomForestRegressor(random_state=42)</pre></div></div></div></div></div></div></div></div></div></div>"
            ],
            "text/plain": [
              "GridSearchCV(cv=5, estimator=RandomForestRegressor(random_state=42), n_jobs=-1,\n",
              "             param_grid={'max_depth': [None, 10, 20, 30],\n",
              "                         'max_features': [1.0, 'sqrt', 'log2'],\n",
              "                         'min_samples_leaf': [1, 2, 4],\n",
              "                         'min_samples_split': [2, 5, 10],\n",
              "                         'n_estimators': [100, 200, 300]},\n",
              "             scoring='neg_mean_squared_error', verbose=2)"
            ]
          },
          "execution_count": 33,
          "metadata": {},
          "output_type": "execute_result"
        }
      ],
      "source": [
        "grid_search = GridSearchCV(\n",
        "    estimator=model,\n",
        "    param_grid=param_grid,\n",
        "    cv=5,                                # 5-fold cross-validation\n",
        "    scoring='neg_mean_squared_error',    # you can also use 'r2'\n",
        "    n_jobs=-1,                           # use all cores\n",
        "    verbose=2\n",
        ")\n",
        "\n",
        "grid_search.fit(X_train, y_train)"
      ]
    },
    {
      "cell_type": "code",
      "execution_count": null,
      "id": "e531f66b-59a0-4468-b6ed-fac674071ab4",
      "metadata": {
        "id": "e531f66b-59a0-4468-b6ed-fac674071ab4",
        "outputId": "87d113a0-d682-4a2c-d962-e856abf109e4"
      },
      "outputs": [
        {
          "name": "stdout",
          "output_type": "stream",
          "text": [
            "Fitting 5 folds for each of 50 candidates, totalling 250 fits\n"
          ]
        },
        {
          "data": {
            "text/html": [
              "<style>#sk-container-id-4 {color: black;background-color: white;}#sk-container-id-4 pre{padding: 0;}#sk-container-id-4 div.sk-toggleable {background-color: white;}#sk-container-id-4 label.sk-toggleable__label {cursor: pointer;display: block;width: 100%;margin-bottom: 0;padding: 0.3em;box-sizing: border-box;text-align: center;}#sk-container-id-4 label.sk-toggleable__label-arrow:before {content: \"▸\";float: left;margin-right: 0.25em;color: #696969;}#sk-container-id-4 label.sk-toggleable__label-arrow:hover:before {color: black;}#sk-container-id-4 div.sk-estimator:hover label.sk-toggleable__label-arrow:before {color: black;}#sk-container-id-4 div.sk-toggleable__content {max-height: 0;max-width: 0;overflow: hidden;text-align: left;background-color: #f0f8ff;}#sk-container-id-4 div.sk-toggleable__content pre {margin: 0.2em;color: black;border-radius: 0.25em;background-color: #f0f8ff;}#sk-container-id-4 input.sk-toggleable__control:checked~div.sk-toggleable__content {max-height: 200px;max-width: 100%;overflow: auto;}#sk-container-id-4 input.sk-toggleable__control:checked~label.sk-toggleable__label-arrow:before {content: \"▾\";}#sk-container-id-4 div.sk-estimator input.sk-toggleable__control:checked~label.sk-toggleable__label {background-color: #d4ebff;}#sk-container-id-4 div.sk-label input.sk-toggleable__control:checked~label.sk-toggleable__label {background-color: #d4ebff;}#sk-container-id-4 input.sk-hidden--visually {border: 0;clip: rect(1px 1px 1px 1px);clip: rect(1px, 1px, 1px, 1px);height: 1px;margin: -1px;overflow: hidden;padding: 0;position: absolute;width: 1px;}#sk-container-id-4 div.sk-estimator {font-family: monospace;background-color: #f0f8ff;border: 1px dotted black;border-radius: 0.25em;box-sizing: border-box;margin-bottom: 0.5em;}#sk-container-id-4 div.sk-estimator:hover {background-color: #d4ebff;}#sk-container-id-4 div.sk-parallel-item::after {content: \"\";width: 100%;border-bottom: 1px solid gray;flex-grow: 1;}#sk-container-id-4 div.sk-label:hover label.sk-toggleable__label {background-color: #d4ebff;}#sk-container-id-4 div.sk-serial::before {content: \"\";position: absolute;border-left: 1px solid gray;box-sizing: border-box;top: 0;bottom: 0;left: 50%;z-index: 0;}#sk-container-id-4 div.sk-serial {display: flex;flex-direction: column;align-items: center;background-color: white;padding-right: 0.2em;padding-left: 0.2em;position: relative;}#sk-container-id-4 div.sk-item {position: relative;z-index: 1;}#sk-container-id-4 div.sk-parallel {display: flex;align-items: stretch;justify-content: center;background-color: white;position: relative;}#sk-container-id-4 div.sk-item::before, #sk-container-id-4 div.sk-parallel-item::before {content: \"\";position: absolute;border-left: 1px solid gray;box-sizing: border-box;top: 0;bottom: 0;left: 50%;z-index: -1;}#sk-container-id-4 div.sk-parallel-item {display: flex;flex-direction: column;z-index: 1;position: relative;background-color: white;}#sk-container-id-4 div.sk-parallel-item:first-child::after {align-self: flex-end;width: 50%;}#sk-container-id-4 div.sk-parallel-item:last-child::after {align-self: flex-start;width: 50%;}#sk-container-id-4 div.sk-parallel-item:only-child::after {width: 0;}#sk-container-id-4 div.sk-dashed-wrapped {border: 1px dashed gray;margin: 0 0.4em 0.5em 0.4em;box-sizing: border-box;padding-bottom: 0.4em;background-color: white;}#sk-container-id-4 div.sk-label label {font-family: monospace;font-weight: bold;display: inline-block;line-height: 1.2em;}#sk-container-id-4 div.sk-label-container {text-align: center;}#sk-container-id-4 div.sk-container {/* jupyter's `normalize.less` sets `[hidden] { display: none; }` but bootstrap.min.css set `[hidden] { display: none !important; }` so we also need the `!important` here to be able to override the default hidden behavior on the sphinx rendered scikit-learn.org. See: https://github.com/scikit-learn/scikit-learn/issues/21755 */display: inline-block !important;position: relative;}#sk-container-id-4 div.sk-text-repr-fallback {display: none;}</style><div id=\"sk-container-id-4\" class=\"sk-top-container\"><div class=\"sk-text-repr-fallback\"><pre>RandomizedSearchCV(cv=5, estimator=RandomForestRegressor(random_state=42),\n",
              "                   n_iter=50, n_jobs=-1,\n",
              "                   param_distributions={&#x27;max_depth&#x27;: [None, 10, 15, 20, 25, 30],\n",
              "                                        &#x27;max_features&#x27;: [1.0, &#x27;sqrt&#x27;, &#x27;log2&#x27;],\n",
              "                                        &#x27;min_samples_leaf&#x27;: &lt;scipy.stats._distn_infrastructure.rv_discrete_frozen object at 0x000001E584F7D5D0&gt;,\n",
              "                                        &#x27;min_samples_split&#x27;: &lt;scipy.stats._distn_infrastructure.rv_discrete_frozen object at 0x000001E584F65E50&gt;,\n",
              "                                        &#x27;n_estimators&#x27;: &lt;scipy.stats._distn_infrastructure.rv_discrete_frozen object at 0x000001E584EFF3D0&gt;},\n",
              "                   random_state=42, scoring=&#x27;neg_mean_squared_error&#x27;,\n",
              "                   verbose=2)</pre><b>In a Jupyter environment, please rerun this cell to show the HTML representation or trust the notebook. <br />On GitHub, the HTML representation is unable to render, please try loading this page with nbviewer.org.</b></div><div class=\"sk-container\" hidden><div class=\"sk-item sk-dashed-wrapped\"><div class=\"sk-label-container\"><div class=\"sk-label sk-toggleable\"><input class=\"sk-toggleable__control sk-hidden--visually\" id=\"sk-estimator-id-6\" type=\"checkbox\" ><label for=\"sk-estimator-id-6\" class=\"sk-toggleable__label sk-toggleable__label-arrow\">RandomizedSearchCV</label><div class=\"sk-toggleable__content\"><pre>RandomizedSearchCV(cv=5, estimator=RandomForestRegressor(random_state=42),\n",
              "                   n_iter=50, n_jobs=-1,\n",
              "                   param_distributions={&#x27;max_depth&#x27;: [None, 10, 15, 20, 25, 30],\n",
              "                                        &#x27;max_features&#x27;: [1.0, &#x27;sqrt&#x27;, &#x27;log2&#x27;],\n",
              "                                        &#x27;min_samples_leaf&#x27;: &lt;scipy.stats._distn_infrastructure.rv_discrete_frozen object at 0x000001E584F7D5D0&gt;,\n",
              "                                        &#x27;min_samples_split&#x27;: &lt;scipy.stats._distn_infrastructure.rv_discrete_frozen object at 0x000001E584F65E50&gt;,\n",
              "                                        &#x27;n_estimators&#x27;: &lt;scipy.stats._distn_infrastructure.rv_discrete_frozen object at 0x000001E584EFF3D0&gt;},\n",
              "                   random_state=42, scoring=&#x27;neg_mean_squared_error&#x27;,\n",
              "                   verbose=2)</pre></div></div></div><div class=\"sk-parallel\"><div class=\"sk-parallel-item\"><div class=\"sk-item\"><div class=\"sk-label-container\"><div class=\"sk-label sk-toggleable\"><input class=\"sk-toggleable__control sk-hidden--visually\" id=\"sk-estimator-id-7\" type=\"checkbox\" ><label for=\"sk-estimator-id-7\" class=\"sk-toggleable__label sk-toggleable__label-arrow\">estimator: RandomForestRegressor</label><div class=\"sk-toggleable__content\"><pre>RandomForestRegressor(random_state=42)</pre></div></div></div><div class=\"sk-serial\"><div class=\"sk-item\"><div class=\"sk-estimator sk-toggleable\"><input class=\"sk-toggleable__control sk-hidden--visually\" id=\"sk-estimator-id-8\" type=\"checkbox\" ><label for=\"sk-estimator-id-8\" class=\"sk-toggleable__label sk-toggleable__label-arrow\">RandomForestRegressor</label><div class=\"sk-toggleable__content\"><pre>RandomForestRegressor(random_state=42)</pre></div></div></div></div></div></div></div></div></div></div>"
            ],
            "text/plain": [
              "RandomizedSearchCV(cv=5, estimator=RandomForestRegressor(random_state=42),\n",
              "                   n_iter=50, n_jobs=-1,\n",
              "                   param_distributions={'max_depth': [None, 10, 15, 20, 25, 30],\n",
              "                                        'max_features': [1.0, 'sqrt', 'log2'],\n",
              "                                        'min_samples_leaf': <scipy.stats._distn_infrastructure.rv_discrete_frozen object at 0x000001E584F7D5D0>,\n",
              "                                        'min_samples_split': <scipy.stats._distn_infrastructure.rv_discrete_frozen object at 0x000001E584F65E50>,\n",
              "                                        'n_estimators': <scipy.stats._distn_infrastructure.rv_discrete_frozen object at 0x000001E584EFF3D0>},\n",
              "                   random_state=42, scoring='neg_mean_squared_error',\n",
              "                   verbose=2)"
            ]
          },
          "execution_count": 34,
          "metadata": {},
          "output_type": "execute_result"
        }
      ],
      "source": [
        "random_search = RandomizedSearchCV(\n",
        "    estimator=model,\n",
        "    param_distributions=param_dist,\n",
        "    n_iter=50,                           # number of parameter combinations to try\n",
        "    cv=5,\n",
        "    scoring='neg_mean_squared_error',\n",
        "    n_jobs=-1,\n",
        "    verbose=2,\n",
        "    random_state=42\n",
        ")\n",
        "\n",
        "random_search.fit(X_train, y_train)"
      ]
    },
    {
      "cell_type": "code",
      "execution_count": null,
      "id": "28384050-4182-4936-b84b-7e038a09c83b",
      "metadata": {
        "id": "28384050-4182-4936-b84b-7e038a09c83b",
        "outputId": "e3f30315-e496-418c-e9dd-08e64adc5f61"
      },
      "outputs": [
        {
          "name": "stdout",
          "output_type": "stream",
          "text": [
            "Best Parameters: {'max_depth': 20, 'max_features': 1.0, 'min_samples_leaf': 1, 'min_samples_split': 2, 'n_estimators': 300}\n",
            "Test RMSE: 0.0003034322117574621\n",
            "Test R2: 0.9721475118754278\n"
          ]
        }
      ],
      "source": [
        "best_model = grid_search.best_estimator_  # or random_search.best_estimator_\n",
        "y_pred = best_model.predict(X_test)\n",
        "\n",
        "# Metrics\n",
        "mse = mean_squared_error(y_test, y_pred)\n",
        "rmse = np.sqrt(mse)\n",
        "r2 = r2_score(y_test, y_pred)\n",
        "\n",
        "print(\"Best Parameters:\", grid_search.best_params_)  # or random_search.best_params_\n",
        "print(\"Test RMSE:\", rmse)\n",
        "print(\"Test R2:\", r2)"
      ]
    },
    {
      "cell_type": "code",
      "execution_count": null,
      "id": "01b888d4-0d07-43ea-ac89-c580db8660c7",
      "metadata": {
        "id": "01b888d4-0d07-43ea-ac89-c580db8660c7",
        "outputId": "79c9ac05-4a89-4c69-ec0d-7a8bfb2043c6"
      },
      "outputs": [
        {
          "data": {
            "image/png": "[encoded data removed]",
            "text/plain": [
              "<Figure size 640x480 with 1 Axes>"
            ]
          },
          "metadata": {},
          "output_type": "display_data"
        }
      ],
      "source": [
        "plt.scatter(y_test, y_pred)\n",
        "plt.xlabel(\"Actual Values\")\n",
        "plt.ylabel(\"Predicted Values\")\n",
        "plt.title(\"Actual vs Predicted\")\n",
        "plt.plot([min(y_test), max(y_test)], [min(y_test), max(y_test)], color='red', linestyle='--')  # Diagonal line\n",
        "plt.grid(True)\n",
        "plt.show()"
      ]
    },
    {
      "cell_type": "code",
      "execution_count": null,
      "id": "553d06cd-e955-4340-9492-e8911c0197cb",
      "metadata": {
        "id": "553d06cd-e955-4340-9492-e8911c0197cb",
        "outputId": "8481e4aa-4ff3-4508-c4ac-a968770f94e9"
      },
      "outputs": [
        {
          "name": "stdout",
          "output_type": "stream",
          "text": [
            "Best Parameters: {'max_depth': 15, 'max_features': 1.0, 'min_samples_leaf': 1, 'min_samples_split': 2, 'n_estimators': 180}\n",
            "Test RMSE: 0.0003061080181556599\n",
            "Test R2: 0.9716541135233429\n"
          ]
        }
      ],
      "source": [
        "best_model = random_search.best_estimator_  # or random_search.best_estimator_\n",
        "y_pred = best_model.predict(X_test)\n",
        "\n",
        "# Metrics\n",
        "mse = mean_squared_error(y_test, y_pred)\n",
        "rmse = np.sqrt(mse)\n",
        "r2 = r2_score(y_test, y_pred)\n",
        "\n",
        "print(\"Best Parameters:\", random_search.best_params_)  # or random_search.best_params_\n",
        "print(\"Test RMSE:\", rmse)\n",
        "print(\"Test R2:\", r2)"
      ]
    },
    {
      "cell_type": "code",
      "execution_count": null,
      "id": "8d2fcb6f-1a81-4170-bcd9-ecb0718dee59",
      "metadata": {
        "id": "8d2fcb6f-1a81-4170-bcd9-ecb0718dee59"
      },
      "outputs": [],
      "source": []
    }
  ],
  "metadata": {
    "kernelspec": {
      "display_name": "Python (ASTRA)",
      "language": "python",
      "name": "astra-env"
    },
    "language_info": {
      "codemirror_mode": {
        "name": "ipython",
        "version": 3
      },
      "file_extension": ".py",
      "mimetype": "text/x-python",
      "name": "python",
      "nbconvert_exporter": "python",
      "pygments_lexer": "ipython3",
      "version": "3.11.7"
    },
    "colab": {
      "provenance": []
    }
  },
  "nbformat": 4,
  "nbformat_minor": 5
}